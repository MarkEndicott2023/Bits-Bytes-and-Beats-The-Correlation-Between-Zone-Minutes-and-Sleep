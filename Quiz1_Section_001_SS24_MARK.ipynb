{
 "cells": [
  {
   "cell_type": "markdown",
   "id": "a3c4aa76-23aa-4873-9959-1939a459837e",
   "metadata": {},
   "source": [
    "# CMSE 201: Quiz 1 (TEMPLATE Spring 2024) \n",
    "\n",
    "## <p style=\"text-align: right;\"> &#9989; Mark Endicott</p>"
   ]
  },
  {
   "cell_type": "markdown",
   "id": "91c9c720-2656-45a2-af5f-ed692cf0f3ea",
   "metadata": {},
   "source": [
    "## Goals and Instructions\n",
    "\n",
    "The goal of this quiz is to give you the opportunity to test out some of the skills that you've developed thus far this semester. In particular, you'll reflect on what you know about writing code using Python and showcase some of your new programming skills.\n",
    "\n",
    "**Important note about using online resources**: This exam is \"open internet\". That means that you can look up documentation, google how to accomplish certain Python tasks, etc. Being able to effectively use the internet for computational modeling and data science is a very important skill, so we want to make sure you have the opportunity to exercise that skill. **However, the use of any person-to-person communication software is absolutely not acceptable.**\n",
    "\n",
    "**You cannot use ChatGPT or any other artificial intelligence tool. If you do you get 0 points!!!**\n",
    "\n",
    "**Do your own work.** This quiz is designed to give *you* the opportunity to show the instructor what you can do and you should hold yourself accountable for maintaining a high level of academic integrity. Any violation of academic integrity could result in you receiving a zero on the quiz.\n",
    "\n",
    "There are a total of **30 points** possible on this quiz and each part of the quiz can be done independently. **If you get stuck _move on to another part of the quiz to earn some points there!_**\n",
    "\n",
    "![Moira](https://media.giphy.com/media/26gs78HRO8sOuhTkQ/giphy.gif)"
   ]
  },
  {
   "cell_type": "markdown",
   "id": "b3e96d40-da31-48c3-884e-2090a3ff89eb",
   "metadata": {},
   "source": [
    "---\n",
    "<a id=\"toc\"></a>\n",
    "\n",
    "## Table of Contents\n",
    "\n",
    "[Part 0. Academic Integrity Statement](#part_0) (1 point)\n",
    "\n",
    "[Part 1. Variables](#part_1)  (5 points)\n",
    "\n",
    "[Part 2. Lists and Indexing](#part_2)  (4 points)\n",
    "\n",
    "[Part 3. Elementwise operations via loops](#part_3) (9 points)\n",
    "\n",
    "[Part 4. Loops and conditional statements](#part_4) (11 points)"
   ]
  },
  {
   "cell_type": "code",
   "execution_count": 1,
   "id": "350b24e1-b778-459b-ab33-c18daf09c22b",
   "metadata": {
    "execution": {
     "iopub.execute_input": "2024-01-26T14:56:52.288858Z",
     "iopub.status.busy": "2024-01-26T14:56:52.288367Z",
     "iopub.status.idle": "2024-01-26T14:56:52.301582Z",
     "shell.execute_reply": "2024-01-26T14:56:52.300680Z",
     "shell.execute_reply.started": "2024-01-26T14:56:52.288829Z"
    }
   },
   "outputs": [
    {
     "name": "stdout",
     "output_type": "stream",
     "text": [
      "The total number of points is : 30\n"
     ]
    }
   ],
   "source": [
    "points_list = [1, 5, 4, 9, 11 ]\n",
    "\n",
    "print(f\"The total number of points is : {sum(points_list)}\")"
   ]
  },
  {
   "cell_type": "markdown",
   "id": "3e97893b-bc8d-451a-9798-365ca0a70c87",
   "metadata": {},
   "source": [
    "---\n",
    "<a id=\"part_0\"></a>\n",
    "\n",
    "# Academic integrity statement (1 points)\n",
    "\n",
    "[Back to Top](#toc)\n",
    "\n",
    "In the markdown cell below, put your personal academic integrity statement. By including this statement, you are confirming that you are submitting this as your own work and not that of someone else.\n"
   ]
  },
  {
   "cell_type": "markdown",
   "id": "bf744a00-192a-40b2-b89b-c2cc0d716286",
   "metadata": {},
   "source": [
    "As a Spartan, I will strive to uphold values of the highest ethical standard. I will practice honesty in my work, foster honesty in my peers, and take pride in knowing that honor in ownership is worth more than grades. I will carry these values beyond my time as a student at Michigan State University, continuing the endeavor to build personal integrity in all that I do."
   ]
  },
  {
   "cell_type": "markdown",
   "id": "d342f1a0-b964-4872-9a4b-fa2fd2e7fc56",
   "metadata": {},
   "source": [
    "---\n",
    "<a id=\"part_1\"></a>\n",
    "\n",
    "# Part 1. Variables (5 points)\n",
    "[Back to Top](#toc)\n",
    "\n",
    "In the first cell below, define **two** variables: one holding your name as a string and the other holding the number of how many people in your group, as an **integer**.\n",
    "\n",
    "In the second cell below, write a print statement (using your two variables defined in the first cell) that prints a complete sentence stating your name and the number you choose. Remember to put spaces.\n"
   ]
  },
  {
   "cell_type": "code",
   "execution_count": 1,
   "id": "b0b75a79",
   "metadata": {},
   "outputs": [],
   "source": [
    "name = \"Mark Endicott\"\n",
    "group_count = 6"
   ]
  },
  {
   "cell_type": "code",
   "execution_count": 3,
   "id": "49c9dd40",
   "metadata": {},
   "outputs": [
    {
     "name": "stdout",
     "output_type": "stream",
     "text": [
      "My name is Mark Endicott and my group count is 6\n"
     ]
    }
   ],
   "source": [
    "print(\"My name is\", name, \"and my group count is\", group_count)"
   ]
  },
  {
   "cell_type": "markdown",
   "id": "a7d37a3f-0009-4baa-8478-eb15c620fbd8",
   "metadata": {},
   "source": [
    "---\n",
    "<a id=\"part_2\"></a>\n",
    "\n",
    "# Part 2. Lists and Indexing (4 points)\n",
    "[Back to top](#toc)\n",
    "\n",
    "In the cell below, define a list that holds the names of at least 5 animals, but make it so that the first animal in your list is **elephant**. Then, using indices to access the values in your list, write a print statement that prints animals in alphabetic order."
   ]
  },
  {
   "cell_type": "code",
   "execution_count": 9,
   "id": "abee1bfa-7c5c-4384-8864-a6ec952b7289",
   "metadata": {},
   "outputs": [
    {
     "name": "stdout",
     "output_type": "stream",
     "text": [
      "Elephant\n",
      "['Chicken', 'Elephant', 'Kiwi', 'Turkey', 'Walrus']\n"
     ]
    }
   ],
   "source": [
    "anim_lst = [\"Elephant\", \"Chicken\", \"Turkey\", \"Kiwi\", \"Walrus\"]\n",
    "\n",
    "print(anim_lst[0])\n",
    "anim_lst.sort()\n",
    "print(anim_lst)"
   ]
  },
  {
   "cell_type": "markdown",
   "id": "7e4b3775-a4c4-4686-a303-f286b78595b3",
   "metadata": {},
   "source": [
    "---\n",
    "<a id=\"part_3\"></a>\n",
    "\n",
    "# Part 3. Elementwise operations via loops (9 points): \n",
    "[Back to Top](#toc)\n",
    "\n",
    "You work for a bookstore, specifically helping them figure out how much they need to spend on ordering books. The information is stored in three lists:\n",
    "- One with the name of the book \n",
    "- One with the quantity of that book that they need \n",
    "- One with the price of the book \n",
    "\n",
    "**Your Boss needs a piece of code that will calculate the total cost of books, so they can make up the budget.**  Your task is to \n",
    "\n",
    "- find the total cost of each book,\n",
    "- store each total cost into a new list called `total_cost`,\n",
    "- calculate the sum of the new list `total_cost`\n",
    "- print the total cost"
   ]
  },
  {
   "cell_type": "code",
   "execution_count": 19,
   "id": "a7677abd-6033-4300-ad68-6042557b8f7c",
   "metadata": {},
   "outputs": [
    {
     "name": "stdout",
     "output_type": "stream",
     "text": [
      "Trust 712.5\n",
      "Arcanus 2385.0\n",
      "The Godfather 3519.0\n",
      "Surviving The Forest 1152.0\n",
      "A Game of Thrones 2070\n",
      "Deep Learning 1779.25\n",
      "\n",
      "total 11617.75\n"
     ]
    }
   ],
   "source": [
    "book_names = [\"Trust\", \"Arcanus\", \"The Godfather\", \"Surviving The Forest\", \"A Game of Thrones\", \"Deep Learning\"]\n",
    "book_quantity = [75, 53, 90, 60, 90, 55]\n",
    "book_prices = [9.5, 45.0, 39.1, 19.20, 23, 32.35]\n",
    "\n",
    "total_cost = []\n",
    "\n",
    "for i in range(len(book_names)):\n",
    "    cost = book_quantity[i] * book_prices[i]\n",
    "    total_cost.append(cost)\n",
    "    print(book_names[i], cost)\n",
    "\n",
    "print()\n",
    "print(\"total\", sum(total_cost))\n"
   ]
  },
  {
   "cell_type": "markdown",
   "id": "49be1b35-f7c0-4e3b-91de-85b276463c32",
   "metadata": {},
   "source": [
    "---\n",
    "<a id=\"part_4\"></a>\n",
    "\n",
    "# Part 4. Loops and conditional statements (11 points): \n",
    "[Back to Top](#toc)\n",
    "\n",
    "The code below is supposed to assign a person to a category based on this rubric\n",
    "\n",
    "        Not an adult if the age is less than 18\n",
    "        An adult below the drinking age if the age is greater or equal to 18 but less than 21\n",
    "        An adult if the age is greater or equal to 21 \n",
    "        \n",
    "In the end, the code stores the category into the list `people_category`. The code will run into an error, try to figure it out and fix it.\n",
    "\n"
   ]
  },
  {
   "cell_type": "code",
   "execution_count": 23,
   "id": "bd589f8f-4f4a-48d8-bd0f-d31e9ecd68a5",
   "metadata": {},
   "outputs": [
    {
     "name": "stdout",
     "output_type": "stream",
     "text": [
      "['Giuseppe is an adult below the drinking age', 'Giulia is an adult', 'Marco is an adult below the drinking age', 'Isabella is an adult', 'Mario is an adult', 'Federica is not an adult', 'Alessandro is an adult', 'Valentina is an adult', 'Davide is an adult', 'Eleonora is an adult', 'Antonio is an adult', 'Martina is not an adult', 'Roberto is not an adult', 'Francesca is an adult', 'Lorenzo is an adult']\n"
     ]
    }
   ],
   "source": [
    "people_list = ['Giuseppe', 'Giulia', 'Marco',\n",
    "                  'Isabella', 'Mario', 'Federica',\n",
    "                  'Alessandro', 'Valentina', 'Davide',\n",
    "                  'Eleonora', 'Antonio','Martina', \n",
    "                  'Roberto', 'Francesca', 'Lorenzo']\n",
    "\n",
    "ages_list = [18, 21, 19, \n",
    "             25, 46, 16,\n",
    "             27, 26, 40,\n",
    "             34, 56, 13,\n",
    "             16, 27, 42]\n",
    "\n",
    "people_category = [] \n",
    "\n",
    "for index in range(len(ages_list)):\n",
    "    \n",
    "    age = ages_list[index] \n",
    "    \n",
    "    name = people_list[index]\n",
    "    \n",
    "    # PUT HERE YOUR CODE FOR CALCULATING THE LETTER GRADE\n",
    "    if age < 18:\n",
    "        cate = \"not an adult\"\n",
    "    \n",
    "    elif age >= 18 and age < 21:\n",
    "        cate = \"an adult below the drinking age\"\n",
    "    \n",
    "    else:\n",
    "        cate  = \"an adult\"\n",
    "    \n",
    "    people_category.append( name + \" is \" + cate )\n",
    "\n",
    "print(people_category)"
   ]
  },
  {
   "cell_type": "markdown",
   "id": "75a65704-30f7-4059-b09d-eb662b570864",
   "metadata": {},
   "source": [
    "&#9989;&nbsp; **Part 4.1 (6 points):** In the cell below, answer the following questions\n",
    "\n",
    "1. The line of code that caused the error(s) (1 point)\n",
    "2. Where appropriate, the type of error it is (i.e. the error code) (1 point)\n",
    "3. A plain English description of the error(s) in the code (2 points)\n",
    "4. Create a new cell and write your solution in there. (2 points)"
   ]
  },
  {
   "cell_type": "markdown",
   "id": "bd00855d-f663-4904-8510-04d1b2dbdd1a",
   "metadata": {},
   "source": [
    "<font size=+3>&#9998;</font> *Put your answer here.*\n",
    "\n",
    "1. The line that caused the error is the for loop indexing through the age_list.\n",
    "\n",
    "2. The range function wants to interpret the list as an integer but fails to do so.\n",
    "\n",
    "3. The range function creates a list of integer that the loop iterates through. When the input to range turned out to be a list, there was a mismatch between the value given and the expected value. "
   ]
  },
  {
   "cell_type": "code",
   "execution_count": 24,
   "id": "b1fa1001-0ca5-495a-b275-59dfa89082ea",
   "metadata": {},
   "outputs": [],
   "source": [
    "for index in range(len(ages_list)): \n",
    "    #simply including a length function to return a numerical count of the ages_list.\n",
    "    \n",
    "    age = ages_list[index] \n",
    "    \n",
    "    name = people_list[index]\n",
    "    \n",
    "    if age < 18:\n",
    "        cate = \"not an adult\"\n",
    "    \n",
    "    elif age >= 18 and age < 21:\n",
    "        cate = \"an adult below the drinking age\"\n",
    "    \n",
    "    else:\n",
    "        cate  = \"an adult\"\n",
    "    \n",
    "    people_category.append( name + \" is \" + cate )\n"
   ]
  },
  {
   "cell_type": "markdown",
   "id": "5f12cac7-6428-4058-8d93-db412200193f",
   "metadata": {},
   "source": [
    "&#9989;&nbsp; **Part 4.2 (5 points):** Answer the following questions in the cell below\n",
    "\n",
    "1. Is your code \"**looping by index**\" or \"**looping by value**\"? (1 point) \n",
    "2. Do you think you could you solve the problem using the other kind of `for` loop? Why or why not? (4 points)\n"
   ]
  },
  {
   "cell_type": "markdown",
   "id": "cdbed604-4a8e-4170-a44c-fdecd1b5585b",
   "metadata": {},
   "source": [
    "1. The code is looping by index in this case.\n",
    "2. You could iterate through each value in age_list and perform the same calculations without indexing by ommiting the range function and any index dependent code. Making other minor code adjustments, of course."
   ]
  },
  {
   "cell_type": "markdown",
   "id": "7febf615-5e94-44c0-8426-e637db906521",
   "metadata": {},
   "source": [
    "---\n",
    "\n",
    "# Congratulations, you're done!\n",
    "\n",
    "Submit this quiz by uploading it to the course Desire2Learn web page.  \n",
    "\n",
    "Go to the **Quizzes** section, find the submission folder link for **Quiz 01**, and upload it there.\n",
    "\n",
    "\n",
    "![Moira2](https://media.giphy.com/media/d1E2HnwywoTkES08/giphy.gif)"
   ]
  },
  {
   "cell_type": "markdown",
   "id": "d980fbdf-9a5b-4eff-84b8-8c9529ea7dcc",
   "metadata": {},
   "source": [
    "&#169; Copyright 2023,  Department of Computational Mathematics, Science and Engineering at Michigan State University."
   ]
  }
 ],
 "metadata": {
  "kernelspec": {
   "display_name": "Python 3 (ipykernel)",
   "language": "python",
   "name": "python3"
  },
  "language_info": {
   "codemirror_mode": {
    "name": "ipython",
    "version": 3
   },
   "file_extension": ".py",
   "mimetype": "text/x-python",
   "name": "python",
   "nbconvert_exporter": "python",
   "pygments_lexer": "ipython3",
   "version": "3.10.9"
  }
 },
 "nbformat": 4,
 "nbformat_minor": 5
}
