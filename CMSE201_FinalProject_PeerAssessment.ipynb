{
 "cells": [
  {
   "cell_type": "markdown",
   "metadata": {},
   "source": [
    "# Peer Assessment Template"
   ]
  },
  {
   "cell_type": "markdown",
   "metadata": {},
   "source": [
    "In this notebook, you will include your peer assessments for **10** of your peers. You should watch the videos for your group members and then choose additional videos of your other peers until you have watched and assessed 10 videos. \n",
    "\n",
    "For each presentation, you need to watch the video, provide feedback on the presentation, and ask one thoughtful question about their research project. Your feedback should include a rating of Excellent, Good, Fair, or Poor in the categories of **Oral Presentation**, **Slides**, and **Overall Content**. Use the Presentation section of the Semester Project rubric to guide your ratings.\n",
    "\n",
    "Here are some example thoughtful questions:\n",
    "“Given your data, how likely is Michigan to be hit by a meteor in 2021?”\n",
    "“What are some of the assumptions in your model to estimate the time to view an object in the night sky?\n",
    "“Why do you think coffee quality is linked to moisture?”\n",
    "…\n",
    "\n",
    "Here are some less thoughtful/insightful questions:\n",
    "“Why do you like hockey games?”\n",
    "“What is Netflix?”\n",
    "“What is python?”\n",
    "…\n",
    "\n",
    "**Your Peer assessment grade will be based on completing your peer assessments and asking thoughtful questions!**\n",
    "\n",
    "Below is an example of what each of your peer assessments should look like:"
   ]
  },
  {
   "cell_type": "markdown",
   "metadata": {},
   "source": [
    "## ## Presentation 1. \n",
    "\n",
    "### Project Title: Factors for heart disease\n",
    "\n",
    "**Student Name:** Carson Szymkowiak\n",
    "\n",
    "**Oral Presentation:** Good\n",
    "\n",
    "**Slides:** Very good\n",
    "\n",
    "**Content:** Excellent\n",
    "\n",
    "**My Question:** Why do you thing the age 50-60 range is at risk?\n",
    "\n",
    "**Additional Comments:** Overall, good flow but went very fast for amount of text."
   ]
  },
  {
   "cell_type": "markdown",
   "metadata": {},
   "source": [
    "## Presentation 2. \n",
    "\n",
    "### Project Title: Youth tabacco use\n",
    "\n",
    "**Student Name:** Gabrielle Krzysiak\n",
    "\n",
    "**Oral Presentation:** Good\n",
    "\n",
    "**Slides:** Very good\n",
    "\n",
    "**Content:** Cleanly designed. \n",
    "\n",
    "**My Question:** What are some next steps for validifying the research of this project?\n",
    "\n",
    "**Additional Comments:** A bit drawn out."
   ]
  },
  {
   "cell_type": "markdown",
   "metadata": {
    "collapsed": true,
    "jupyter": {
     "outputs_hidden": true
    }
   },
   "source": [
    "## Presentation 3. \n",
    "\n",
    "### Project Title: Zombie Infection in my little pony universe\n",
    "\n",
    "**Student Name:** Nhi Nguyen\n",
    "\n",
    "**Oral Presentation:** Good\n",
    "\n",
    "**Slides:** Very good \n",
    "\n",
    "**Content:** Excellent\n",
    "\n",
    "**My Question:** Why did \"Manehattan\" die the fastest?\n",
    "\n",
    "**Additional Comments:** Whole lot of graphs on single slides. Too much!"
   ]
  },
  {
   "cell_type": "markdown",
   "metadata": {},
   "source": [
    "## Presentation 4. \n",
    "\n",
    "### Project Title: Forecasting bitcoin's future \n",
    "\n",
    "**Student Name:**  Chowdhury Rashik E Alahi\n",
    "\n",
    "**Oral Presentation:** Excellent\n",
    "\n",
    "**Slides:** Good\n",
    "\n",
    "**Content:** Excellent\n",
    "\n",
    "**My Question:** Why do you think the price of bitcoin went up?\n",
    "\n",
    "**Additional Comments:** "
   ]
  },
  {
   "cell_type": "markdown",
   "metadata": {},
   "source": [
    "## Presentation 5. \n",
    "\n",
    "### Project Title: Change in poached rhinos from 1990 to 2021?\n",
    "\n",
    "**Student Name:** \n",
    "\n",
    "**Oral Presentation:** Looking at slides mostly. Seemingly unhearsed.\n",
    "\n",
    "**Slides:** Visualizations were there. Straight up paragraphs later.\n",
    "\n",
    "**Content:** Cool graphs\n",
    "\n",
    "**My Question:** /\n",
    "\n",
    "**Additional Comments:** /"
   ]
  },
  {
   "cell_type": "markdown",
   "metadata": {},
   "source": [
    "## Presentation 6. \n",
    "### Project Title: Determining the most efficient COVID vaccine.\n",
    "\n",
    "**Student Name:** \n",
    "\n",
    "**Oral Presentation:** Looking at slides mostly. Seemingly unhearsed.\n",
    "\n",
    "**Slides:** Clean, simple layout. Maybe less text.\n",
    "\n",
    "**Content:** Good balance between detail conciseness. Neat!\n",
    "\n",
    "**My Question:** \n",
    "\n",
    "**Additional Comments:** "
   ]
  },
  {
   "cell_type": "markdown",
   "metadata": {},
   "source": [
    "## Presentation 7. \n",
    "\n",
    "### Project Title: SAT vs. GPA.\n",
    "\n",
    "**Student Name:** Sierrah Driscoll\n",
    "\n",
    "**Oral Presentation:** Very Good\n",
    "\n",
    "**Slides:** Excellent\n",
    "\n",
    "**Content:** Excellent\n",
    "\n",
    "**My Question:** Why do you think there was an increase in SAT participation?\n",
    "\n",
    "**Additional Comments:** "
   ]
  },
  {
   "cell_type": "markdown",
   "metadata": {},
   "source": [
    "## Presentation 8. \n",
    "\n",
    "### Project Title: Horse racing performance and age.\n",
    "\n",
    "**Student Name:** KAITLYN O'BYRNE\n",
    "\n",
    "**Oral Presentation:** Very good\n",
    "\n",
    "**Slides:** good\n",
    "\n",
    "**Content:** Excellent\n",
    "\n",
    "**My Question:** How might this be useful to real-life operators of horse races?\n",
    "\n",
    "**Additional Comments:** Way too much text"
   ]
  },
  {
   "cell_type": "markdown",
   "metadata": {},
   "source": [
    "## Presentation 9. \n",
    "\n",
    "### Project Title: Consumer preferences and vehicle pricing dynamics.\n",
    "\n",
    "**Student Name:** Steven Dang\n",
    "\n",
    "**Oral Presentation:** Very good\n",
    "\n",
    "**Slides:** Very good\n",
    "\n",
    "**Content:** Excellent\n",
    "\n",
    "**My Question:** How could potential employers use this in their business?\n",
    "\n",
    "**Additional Comments:** "
   ]
  },
  {
   "cell_type": "markdown",
   "metadata": {
    "execution": {
     "iopub.execute_input": "2024-04-07T18:02:11.371500Z",
     "iopub.status.busy": "2024-04-07T18:02:11.371044Z",
     "iopub.status.idle": "2024-04-07T18:02:11.378658Z",
     "shell.execute_reply": "2024-04-07T18:02:11.377804Z",
     "shell.execute_reply.started": "2024-04-07T18:02:11.371471Z"
    }
   },
   "source": [
    "## Presentation 10. \n",
    "\n",
    "### Project Title: Race, age, and cancer correlation.\n",
    "\n",
    "**Student Name:** Clifton Sprivey\n",
    "\n",
    "**Oral Presentation:** Excellent\n",
    "\n",
    "**Slides:** Excellent\n",
    "\n",
    "**Content:** Excellent\n",
    "\n",
    "**My Question:** Why do you personally think this correlation exists?\n",
    "\n",
    "**Additional Comments:** Color contrast was a little jarring."
   ]
  }
 ],
 "metadata": {
  "anaconda-cloud": {},
  "kernelspec": {
   "display_name": "Python 3 (ipykernel)",
   "language": "python",
   "name": "python3"
  },
  "language_info": {
   "codemirror_mode": {
    "name": "ipython",
    "version": 3
   },
   "file_extension": ".py",
   "mimetype": "text/x-python",
   "name": "python",
   "nbconvert_exporter": "python",
   "pygments_lexer": "ipython3",
   "version": "3.10.9"
  }
 },
 "nbformat": 4,
 "nbformat_minor": 4
}
