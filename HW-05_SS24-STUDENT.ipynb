{
 "cells": [
  {
   "cell_type": "markdown",
   "id": "3edac135",
   "metadata": {},
   "source": [
    "# Homework 5: 2D Arrays and Agent-based Modeling (EXTRA CREDIT)"
   ]
  },
  {
   "cell_type": "markdown",
   "id": "01597d32",
   "metadata": {},
   "source": [
    "### <p style=\"text-align: right;\"> &#9989; Put your name here.\n"
   ]
  },
  {
   "cell_type": "markdown",
   "id": "6998ca55",
   "metadata": {},
   "source": [
    "  \n",
    "## Learning Goals\n",
    "\n",
    "In this homework, you will:\n",
    "\n",
    "* Access and manipulate 2D arrays\n",
    "* Implement, explore and assess an agent-based model of forest fires\n",
    "\n",
    "## Practice goals\n",
    "\n",
    "* Understanding code on a conceptual level\n",
    "* Commenting code\n",
    "* Running numerical experiments to collect statistics\n",
    "* Connecting models to real-world systems\n",
    "\n",
    "## Grading\n",
    "\n",
    "* Part 1: Image segmentation (27 points)  \n",
    "* Part 2: Only you!... can prevent forest fires (43 points)  \n",
    "\n",
    "**Total:** 70 pts"
   ]
  },
  {
   "cell_type": "markdown",
   "id": "16c271f4",
   "metadata": {},
   "source": [
    "## Assignment instructions\n",
    "\n",
    "Work through the following assignment, making sure to follow all of the directions and answer all of the questions.\n",
    "\n",
    "**This assignment is due at 11:59 pm on Friday, April 19.** It should be uploaded into the \"Homework Assignments\" submission folder for Homework #5.  Submission instructions can be found at the end of the notebook."
   ]
  },
  {
   "cell_type": "markdown",
   "id": "b8f19020-4d3f-4285-915e-ff5a7c722552",
   "metadata": {
    "execution": {
     "iopub.execute_input": "2024-04-07T15:40:54.029567Z",
     "iopub.status.busy": "2024-04-07T15:40:54.028853Z",
     "iopub.status.idle": "2024-04-07T15:40:54.044462Z",
     "shell.execute_reply": "2024-04-07T15:40:54.043488Z",
     "shell.execute_reply.started": "2024-04-07T15:40:54.029512Z"
    }
   },
   "source": [
    "---\n",
    "<a id=\"toc\"></a>\n",
    "\n",
    "## Table of Contents\n",
    "\n",
    "[Part 1. Image Segmentation](#part_1)  (27 points)\n",
    "\n",
    "[Part 2. Controlled Forest Fires](#part_2)  (43 points)"
   ]
  },
  {
   "cell_type": "markdown",
   "id": "fe59a8c0",
   "metadata": {},
   "source": [
    "---\n",
    "<a id=\"part_1\"></a>\n",
    "\n",
    "## Part 1: Image segmentation (27 points)\n",
    "\n",
    "[Back to Top](#toc)\n",
    "\n",
    "Image segmentation is a critical process in computer vision that involves dividing an image into multiple segments or parts to make the image more meaningful and easier to analyze. At its core, image segmentation aims to assign a label to every pixel in an image such that pixels with the same label share certain characteristics. This technique enables the identification of boundaries and objects within images, paving the way for more advanced image analysis and understanding.\n",
    "\n",
    "In real-world applications, image segmentation plays a pivotal role in numerous fields, including medical imaging, autonomous driving, and object detection. By accurately segmenting an image into its constituent parts, we can isolate and analyze specific regions of interest, enhancing both the efficiency and accuracy of image processing tasks.\n",
    "\n",
    "\n",
    "**Goals**\n",
    "\n",
    "In this part of the homework, you will delve into the practical application of image segmentation using 2D and 3D arrays. By leveraging your knowledge of array manipulation, you will create a visually appealing representation of an image, demonstrating the power of image segmentation techniques. The goal is to not only reinforce your understanding of 2D and 3D arrays but also to showcase how these fundamental concepts are applied in the field of computer vision.\n",
    "\n",
    "\n",
    "- Learning Outcome: By the end of this part, you should be able to apply basic image segmentation techniques to manipulate and analyze images. This will be a stepping stone towards understanding more complex image processing tasks.\n",
    "\n",
    "- Task: Utilizing the provided image of Sparty, you will apply segmentation techniques to isolate specific features or segments of the image, creating a unique visual effect that highlights your understanding of the concept.\n",
    "\n"
   ]
  },
  {
   "cell_type": "markdown",
   "id": "ef1d1892",
   "metadata": {},
   "source": [
    "**GO GREEN!!** Run the cell below to see a picture of Sparty. As it turns out, you can use what you've learned about 2D arrays to create a cool picture. Let's do it!"
   ]
  },
  {
   "cell_type": "code",
   "execution_count": null,
   "id": "1a715e28",
   "metadata": {},
   "outputs": [],
   "source": [
    "from PIL import Image\n",
    "import matplotlib.pyplot as plt\n",
    "import numpy as np\n",
    "%matplotlib inline\n",
    "\n",
    "picture = Image.open(\"sparty.png\")\n",
    "sparty = picture.convert('RGB')\n",
    "plt.figure(figsize = (10,10))\n",
    "plt.imshow(picture)\n",
    "plt.axis('off')"
   ]
  },
  {
   "cell_type": "markdown",
   "id": "f7e762e9",
   "metadata": {},
   "source": [
    "### Question 1.1 (2 points)\n",
    "As we saw in the in-class assignment, this picture can be represented by an array. Without using code, write down how many dimensions this array has and what they each represent."
   ]
  },
  {
   "cell_type": "markdown",
   "id": "efa2daae",
   "metadata": {},
   "source": [
    "<font size=6 color=\"#009600\">&#9998;</font> *Put your text here*"
   ]
  },
  {
   "cell_type": "markdown",
   "id": "50a3b5dc",
   "metadata": {},
   "source": [
    "We want our logo to only include Sparty, not the background. Using the website [Segment Anything](https://segment-anything.com/demo), we create a *mask*, which shows white where Sparty is and black everywhere else. The process of separating out different parts of an image is called *image segmentation*, and is an active area of research in computer science. We won't go into details in this assignment, so you can just run the cell below to import a mask in the shape of Sparty."
   ]
  },
  {
   "cell_type": "code",
   "execution_count": null,
   "id": "60e5e2ef-ecc7-42a2-9cc9-443d05c9b002",
   "metadata": {},
   "outputs": [],
   "source": [
    "mask = Image.open(\"sparty_mask.png\")\n",
    "plt.figure(figsize = (10,10))\n",
    "plt.imshow(mask, cmap='binary_r')\n",
    "plt.axis('off')"
   ]
  },
  {
   "cell_type": "markdown",
   "id": "2db73a5d-9315-4efa-ba09-8e2448d96027",
   "metadata": {},
   "source": [
    "### Question 1.2 (4 points)\n",
    "Think back to Day 06, when we discussed ethics in data science. Write down a potential ethical problem that might arise when using software such as Segment Anything. If you're stuck, read more about Segment Anything at the link above."
   ]
  },
  {
   "cell_type": "markdown",
   "id": "4f4b1fcd-a91a-46ce-9ae4-f0ab7f82752a",
   "metadata": {},
   "source": [
    "<font size=6 color=\"#009600\">&#9998;</font> *Put your text here*"
   ]
  },
  {
   "cell_type": "markdown",
   "id": "a7e01cf7",
   "metadata": {},
   "source": [
    "### Question 1.3 (2 points)\n",
    "After running the code above, we get a black-and-white outline of Sparty. What is the minimum number of dimensions we need to represent this image as an array?"
   ]
  },
  {
   "cell_type": "markdown",
   "id": "770e8554",
   "metadata": {},
   "source": [
    "<font size=6 color=\"#009600\">&#9998;</font> *Put your text here*"
   ]
  },
  {
   "cell_type": "markdown",
   "id": "9404c90f",
   "metadata": {},
   "source": [
    "We are going to add the mask as an *alpha layer* to the orignal image of Sparty. This is a fourth layer that sits on top of the three RGB layers that determines the transparency of each pixel."
   ]
  },
  {
   "cell_type": "code",
   "execution_count": null,
   "id": "1c49bd63-79f4-4a8d-8b37-79396be79634",
   "metadata": {},
   "outputs": [],
   "source": [
    "# transform images into NumPy arrays\n",
    "sparty_array = np.asarray(sparty)\n",
    "mask_array = np.asarray(mask)\n",
    "\n",
    "# stack the mask layer on top of the RGB layers\n",
    "new_sparty = np.stack([sparty_array[:,:,0],sparty_array[:,:,1],sparty_array[:,:,2],mask_array], axis=2)\n",
    "\n",
    "# plot\n",
    "plt.figure(figsize = (10,10))\n",
    "plt.imshow(new_sparty)\n",
    "plt.axis('off')"
   ]
  },
  {
   "cell_type": "markdown",
   "id": "367ad724",
   "metadata": {},
   "source": [
    "Cool! We isolated Sparty from the background. However, the outline looks a bit rough. Let's smooth the mask with a blur. First, we need some functions to help us. Run the cell below."
   ]
  },
  {
   "cell_type": "code",
   "execution_count": null,
   "id": "3398bc42",
   "metadata": {},
   "outputs": [],
   "source": [
    "def onBoard(i,j,image):\n",
    "    if i <= image.shape[0]-1 and i >= 0 and j <= image.shape[1]-1 and j >= 0:\n",
    "        return True\n",
    "    else:\n",
    "        return False\n",
    "\n",
    "def getNeighborValues(i,j, board):\n",
    "    neighborhood = [(i-1, j), (i, j-1), (i+1, j), (i, j+1)]\n",
    "    \n",
    "    neighbor_values = []\n",
    "    for neighbor in neighborhood:\n",
    "        if onBoard(neighbor[0], neighbor[1], board):\n",
    "            neighbor_values.append(board[neighbor[0], neighbor[1]])\n",
    "    \n",
    "    return neighbor_values\n",
    "\n",
    "def zeros_array(array):\n",
    "    return np.zeros((len(array[:,0]), len(array[0,:])))\n",
    "\n",
    "def nearby_averages(i, j, array):\n",
    "    vals = getNeighborValues(i, j, array)\n",
    "    vals.append(array[i,j])\n",
    "    vals_array = np.asarray(vals)\n",
    "    avg = np.mean(vals_array)\n",
    "    return avg"
   ]
  },
  {
   "cell_type": "markdown",
   "id": "44c3cf60",
   "metadata": {},
   "source": [
    "Check out the code for the blurring filter below. The outer for-loop allows for multiple iterations of \"blurring,\" which you can change using the `iterations` variable. For now, leave it at 1.\n",
    "\n",
    "The way the blurring works is, the RGB values of a \"blurred\" pixel should be equal to the average RGB values of the \"unblurred\" pixel and its neighbors from the original image. See the visual below for a demonstration of this process.\n",
    "\n",
    "### Question 1.4 (10 points)\n",
    "\n",
    "At each line with a single hashtag `#`, add a comment explaining what the below line(s) of code are doing. This code may take a couple of minutes to run."
   ]
  },
  {
   "cell_type": "code",
   "execution_count": null,
   "id": "63588327-807f-447f-8436-163ee2942ad4",
   "metadata": {},
   "outputs": [],
   "source": [
    "current_pic = mask_array\n",
    "iterations = 2\n",
    "\n",
    "# 1. comment here\n",
    "for x in range(iterations):\n",
    "    # 2. comment here\n",
    "    current_array = np.asarray(current_pic)\n",
    "    \n",
    "    # 3. comment here\n",
    "    blurred_array = zeros_array(current_array)\n",
    "\n",
    "    # 4. comment here\n",
    "    for i in range(len(current_array[:,0])):\n",
    "        # 5. comment here\n",
    "        for j in range(len(current_array[0,:])):\n",
    "            # 6. comment here\n",
    "            avg = nearby_averages(i, j, current_array)\n",
    "            \n",
    "            # 7. comment here\n",
    "            blurred_array[i, j] = avg\n",
    "    \n",
    "    # 8. comment here\n",
    "    current_pic = blurred_array.astype(np.uint8)\n",
    "\n",
    "# 9. comment here\n",
    "plt.figure(figsize = (10,10))\n",
    "plt.imshow(current_pic, cmap='binary_r') # 10. What does the cmap argument do? You may need to look at the matplotlib documentation\n",
    "plt.axis('off')"
   ]
  },
  {
   "cell_type": "markdown",
   "id": "8e5444fd-b5c4-4da0-92dd-a91fba65c375",
   "metadata": {},
   "source": [
    "### Question 1.5 (2 points)\n",
    "What does the code below do? Feel free to use any online resources to read more about `np.stack`."
   ]
  },
  {
   "cell_type": "code",
   "execution_count": null,
   "id": "acd834f3",
   "metadata": {},
   "outputs": [],
   "source": [
    "new_sparty_smooth = np.stack([sparty_array[:,:,0],sparty_array[:,:,1],sparty_array[:,:,2],current_pic], axis=2)"
   ]
  },
  {
   "cell_type": "markdown",
   "id": "40605daa-c803-4943-8e7d-04221e79be44",
   "metadata": {},
   "source": [
    "<font size=6 color=\"#009600\">&#9998;</font> *Put your text here*"
   ]
  },
  {
   "cell_type": "code",
   "execution_count": null,
   "id": "05165968",
   "metadata": {},
   "outputs": [],
   "source": [
    "# plot the smoothed sparty pic\n",
    "plt.figure(figsize = (10,10))\n",
    "plt.imshow(new_sparty_smooth)\n",
    "plt.axis('off')"
   ]
  },
  {
   "cell_type": "markdown",
   "id": "1dd5f370-0019-484d-a4f6-c4112d20e093",
   "metadata": {},
   "source": [
    "We need a cool background for Sparty. Let's use the picture from the in-class assignment."
   ]
  },
  {
   "cell_type": "code",
   "execution_count": null,
   "id": "d5bf8569-4dbf-4c05-999e-707f622ebf9f",
   "metadata": {},
   "outputs": [],
   "source": [
    "picture_array = plt.imread(\"landscape.jpeg\")\n",
    "plt.imshow(picture_array)\n",
    "_ = plt.axis('off')"
   ]
  },
  {
   "cell_type": "markdown",
   "id": "e7abb21b-2ee9-484e-9d2e-b02b04b68c7f",
   "metadata": {},
   "source": [
    "### Question 1.6 (5 points)\n",
    "\n",
    "Let's put Sparty in the top left part of the photo. The code to do this below is from ChatGPT but some of the comments are missing! Write in the comments after each number."
   ]
  },
  {
   "cell_type": "code",
   "execution_count": null,
   "id": "ece0dbb4-8dfa-49f5-85e3-971c8e861a2b",
   "metadata": {},
   "outputs": [],
   "source": [
    "# Make a copy because the orignal picture cannot be changed.\n",
    "composite = picture_array.copy()\n",
    "\n",
    "# Choose a position to put Sparty\n",
    "position = (100, 150)\n",
    "\n",
    "# 1.\n",
    "small_height, small_width = new_sparty_smooth.shape[:2]\n",
    "\n",
    "# Calculate the region of interest (ROI) for overlaying the smaller image onto the larger image\n",
    "roi_height = min(small_height, composite.shape[0] - position[0])\n",
    "roi_width = min(small_width, composite.shape[1] - position[1])\n",
    "roi = np.copy(composite[position[0]:position[0] + roi_height, position[1]:position[1] + roi_width])\n",
    "\n",
    "alpha = new_sparty_smooth[:, :, 3] / 255.0  # 2.\n",
    "inv_alpha = 1.0 - alpha # 3.\n",
    "\n",
    "# Blend the images, ignoring pixels with zero alpha values in the smaller image\n",
    "for c in range(3):  # Blend RGB channels separately\n",
    "    roi[:, :, c] = alpha[:roi_height, :roi_width] * new_sparty_smooth[:roi_height, :roi_width, c] + inv_alpha[:roi_height, :roi_width] * roi[:, :, c]\n",
    "\n",
    "# Update the larger image with the blended region\n",
    "composite[position[0]:position[0] + roi_height, position[1]:position[1] + roi_width] = roi\n",
    "\n",
    "# 4.\n",
    "plt.imshow(composite)\n",
    "plt.axis('off'); #5. What does the ';' do?"
   ]
  },
  {
   "cell_type": "markdown",
   "id": "fb670066-c3c4-438b-a7b4-0bc7f4f9fa5b",
   "metadata": {},
   "source": [
    "This looks great! We got the background image from the CMSE 201 website, so we don't need to cite it. However, we forgot to cite the Sparty image! This is the [URL](https://www.lansingstatejournal.com/picture-gallery/sports/college/msu/football/2018/12/31/michigan-state-oregon-football-redbox-bowl/2452481002/) where the image is from. "
   ]
  },
  {
   "cell_type": "markdown",
   "id": "e767ba36-5920-4c9c-8808-498f84e8769f",
   "metadata": {},
   "source": [
    "### Question 1.7 (2 points)\n",
    "Using a common citation formatting style (e.g. APA, MLA, or Chicago), properly cite the Sparty image."
   ]
  },
  {
   "cell_type": "markdown",
   "id": "73a001a1-008a-41f3-a07a-ab4e8e316fd9",
   "metadata": {},
   "source": [
    "<font size=6 color=\"#009600\">&#9998;</font> *Put your text here*"
   ]
  },
  {
   "cell_type": "markdown",
   "id": "a989363a",
   "metadata": {},
   "source": [
    "---\n",
    "<a id=\"part_2\"></a>\n",
    "\n",
    "## Part 2: Only you!..... can prevent forest fires (43 points)\n",
    "[Back to Top](#toc)\n",
    "\n",
    "Agent-based modeling (ABM) is a powerful simulation technique that models the dynamics of complex systems through the interactions of individual agents and their environment. In the context of forest fires, agents can represent various entities such as trees, fire, firefighters, or environmental conditions. By simulating the interactions among these agents and the rules governing their behavior, we can gain insights into the spread of forest fires and the effectiveness of different prevention and control strategies.\n",
    "\n",
    "This approach allows for the exploration of scenarios that would be impossible, dangerous, or unethical to study in real life, making it an invaluable tool for research and decision-making in wildfire management. Through ABM, we can investigate how changes in the environment or in the behavior of individual agents affect the overall dynamics of the system, providing critical insights into how forest fires start, spread, and can potentially be contained.\n",
    "\n",
    "In this part of the homework, you will engage with an agent-based model to simulate and analyze forest fires. This exercise aims to deepen your understanding of ABM as a tool for studying complex ecological phenomena and to explore strategies for fire prevention and control. Specifically, you will:\n",
    "\n",
    "- **Understand the Basics of Agent-Based Modeling:** Grasp the foundational concepts of ABM and how it can be applied to simulate complex systems such as forest fires.\n",
    "- **Implement a Simple Forest Fire Model:** Use programming skills to create a basic simulation of a forest fire, incorporating various agents and simulating their interactions.\n",
    "- **Analyze Simulation Results:** Learn to interpret the outcomes of your simulations, understanding how different variables and conditions affect the spread of fire.\n",
    "- **Explore Prevention Strategies:** Investigate the effectiveness of various fire prevention and control strategies through simulation, considering the role of environmental factors and human intervention.\n",
    "- **Connect Models to Real-World Systems:** Reflect on how the models relate to real-world systems and how they can inform policy-making and forest management practices.\n",
    "\n",
    "By completing this part, you will not only gain a better understanding of the mechanics and applications of agent-based modeling but also contribute to the broader conversation on how to effectively manage and prevent forest fires."
   ]
  },
  {
   "cell_type": "code",
   "execution_count": null,
   "id": "b302b0d5",
   "metadata": {},
   "outputs": [],
   "source": [
    "## Import packages\n",
    "# standard includes\n",
    "import numpy as np\n",
    "%matplotlib inline\n",
    "import matplotlib.pyplot as plt\n",
    "\n",
    "# Next we are going to import some specific libraries we will use to get the animation to work cleanly\n",
    "from IPython.display import display, clear_output\n",
    "import time  "
   ]
  },
  {
   "cell_type": "markdown",
   "id": "e494044f",
   "metadata": {},
   "source": [
    "### Functions for the model\n",
    "\n",
    "In this part, we will begin with the code from Forest Fire Day 2 (Day 22 In Class) to learn a bit more about forest fires. The cells below hold that functioning code and one run of the model.\n",
    "\n",
    "We are going to explore the idea of controlled (or prescribed) burns for forest management. Read [this (short) article](https://www.vox.com/science-and-health/2022/6/15/23169428/wildfire-season-controlled-burn-climate) about the origin of prescribed burns and how they are used. Then, begin to work through the coding questions below.\n",
    "\n",
    "You don't need to do anything here except run this cell."
   ]
  },
  {
   "cell_type": "code",
   "execution_count": null,
   "id": "c44bc5fd",
   "metadata": {},
   "outputs": [],
   "source": [
    "#############RUN THIS CELL ###################\n",
    "def plotgrid(myarray,markersize=10,title=None):\n",
    "    \n",
    "    # First create two vectors based on the x and y sizes of the grid\n",
    "    x_range = np.linspace(0, myarray.shape[1]-1, myarray.shape[1]) \n",
    "    y_range = np.linspace(0, myarray.shape[0]-1, myarray.shape[0])\n",
    "    \n",
    "    # Use the numpy meshgrid function to create two matrices\n",
    "    # of the same size as myarray with x and y indexes\n",
    "    x_indices, y_indices = np.meshgrid(x_range, y_range)\n",
    "    \n",
    "    # Make a list of all the x and y indexes that are either trees or fire.\n",
    "    tree_x = x_indices[myarray == 1];   \n",
    "    tree_y = y_indices[myarray == 1]; \n",
    "    fire_x = x_indices[myarray == 2];   \n",
    "    fire_y = y_indices[myarray == 2]; \n",
    "    \n",
    "    # Plot the trees and fire.\n",
    "    plt.plot(tree_x, myarray.shape[0] - tree_y - 1, 'gs',markersize=markersize)   \n",
    "    plt.plot(fire_x, myarray.shape[0] - fire_y - 1, 'rs',markersize=markersize)  \n",
    "    \n",
    "    # Set the x and y limits so we don't cut off the shapes\n",
    "    plt.xlim([-1,myarray.shape[1]])\n",
    "    plt.ylim([-1,myarray.shape[0]]) \n",
    "\n",
    "    # Removing tick marks\n",
    "    plt.tick_params(axis='both', which='both',\n",
    "                    bottom=False, top=False, left=False, right=False,\n",
    "                    labelbottom=False, labelleft=False)\n",
    "    \n",
    "    # Set the plot title\n",
    "    if title is not None:\n",
    "        plt.title(title)\n",
    "\n",
    "def set_trees(board_size=50,f_trees_start=0.5):\n",
    "    '''\n",
    "    Creates the initial game board and adds trees.\n",
    "\n",
    "    Inputs:\n",
    "        board_size: length of one edge of the board\n",
    "        f_trees_start: probability that a given cell is a tree\n",
    "                       (effectively the tree density)\n",
    "\n",
    "    Outputs a 2D numpy array with values set to either 0, 1, or 2\n",
    "        (empty, tree, or fire)\n",
    "    '''\n",
    "    \n",
    "    # all cells initialized to 'empty' (0) by default\n",
    "    game_board = np.zeros((board_size,board_size),dtype='int64')\n",
    "    \n",
    "    # loop over board and roll the dice; if the random number is less\n",
    "    # than f_trees_start, make it a tree.\n",
    "    for i in range(board_size):\n",
    "        for j in range(board_size):\n",
    "            if np.random.random() <= f_trees_start:\n",
    "                game_board[i,j] = 1\n",
    "   \n",
    "    return game_board\n",
    "\n",
    "def start_fire(game_board,mode='line'):\n",
    "    '''\n",
    "    Starts a fire on the game board.\n",
    "    \n",
    "    Input: a game board\n",
    "    \n",
    "    Output: a game board with fire\n",
    "    '''\n",
    "    \n",
    "    if mode == 'line':\n",
    "        game_board[:,0] = 2\n",
    "    \n",
    "    return game_board\n",
    "\n",
    "def onBoard(i,j,image):\n",
    "    if i <= image.shape[0]-1 and i >= 0 and j <= image.shape[1]-1 and j >= 0:\n",
    "        return True\n",
    "    else:\n",
    "        return False\n",
    "\n",
    "def getNeighborValues(i,j, board):\n",
    "    neighborhood = [(i-1, j), (i, j-1), (i+1, j), (i, j+1)]\n",
    "    \n",
    "    neighbor_values = []\n",
    "    for neighbor in neighborhood:\n",
    "        if onBoard(neighbor[0], neighbor[1], board):\n",
    "            neighbor_values.append(board[neighbor[0], neighbor[1]])\n",
    "    \n",
    "    return neighbor_values\n",
    "\n",
    "def advance_board(game_board):\n",
    "    '''\n",
    "    Advances the game board using the given rules.\n",
    "    Input: the initial game board.\n",
    "    Output: the advanced game board\n",
    "    '''\n",
    "    \n",
    "    # create a new array that's just like the original one, but initially \n",
    "    # set to all zeros (i.e., totally empty)\n",
    "    new_board = np.zeros_like(game_board)\n",
    "    \n",
    "    # loop over each cell in the board and decide what to do.\n",
    "    for i in range(game_board.shape[0]):\n",
    "        for j in range(game_board.shape[1]):\n",
    "    \n",
    "            # if the cell was empty last turn, it's still empty.\n",
    "            # if it was on fire last turn, it's now empty.\n",
    "            if game_board[i,j] == 0 or game_board[i,j] == 2:\n",
    "                new_board[i,j] = 0\n",
    "    \n",
    "            # now, if it's a tree we have to decide what to do.\n",
    "            if game_board[i,j] == 1:\n",
    "                \n",
    "                # initially make it a tree\n",
    "                new_board[i,j] = 1\n",
    "                \n",
    "                # If one of the neighboring cells was on fire last turn, \n",
    "                # this cell is now on fire!\n",
    "                if 2 in getNeighborValues(i,j,game_board):\n",
    "                    new_board[i,j] = 2\n",
    "\n",
    "    # return the new board\n",
    "    return new_board\n",
    "\n",
    "def calc_stats(game_board):\n",
    "    '''\n",
    "    Calculates the fraction of cells on the game board that are \n",
    "    a tree or are empty.\n",
    "    \n",
    "    Input: a game board\n",
    "    \n",
    "    Output: fraction that's empty, fraction that's covered in trees.\n",
    "    '''\n",
    "    \n",
    "    # use numpy to count up the fraction that are empty\n",
    "    frac_empty = (game_board == 0).sum() / game_board.size\n",
    "\n",
    "    # do the same for trees\n",
    "    frac_tree = (game_board == 1).sum() / game_board.size\n",
    "\n",
    "    # and fire\n",
    "    frac_fire = (game_board == 2).sum() / game_board.size\n",
    "    \n",
    "    # return it!\n",
    "    return frac_empty, frac_tree, frac_fire\n",
    "\n",
    "def has_fire(game_board):\n",
    "    '''Determines whether there is fire on the board.\n",
    "    \n",
    "    Input: a game board\n",
    "    \n",
    "    \n",
    "    Output: True/False\n",
    "    '''\n",
    "    \n",
    "    if game_board.max() > 1:\n",
    "        return True\n",
    "    else:\n",
    "        return False"
   ]
  },
  {
   "cell_type": "markdown",
   "id": "c3d361a4",
   "metadata": {},
   "source": [
    "### Run the Model\n",
    "\n",
    "You don't need to do anything here except run the cell and make sure everything works."
   ]
  },
  {
   "cell_type": "code",
   "execution_count": null,
   "id": "ece1e21d",
   "metadata": {},
   "outputs": [],
   "source": [
    "def forest_fire_model(f_trees_start=0.6,\n",
    "                      board_size=50,\n",
    "                      fire_mode='line',\n",
    "                     show_vis=True):\n",
    "\n",
    "    # build the initial board\n",
    "    game_board = set_trees(board_size=board_size, f_trees_start=f_trees_start)\n",
    "    game_board = start_fire(game_board,mode=fire_mode)\n",
    "\n",
    "    # if we are supposed to show the plot, then plot the initial board\n",
    "    if show_vis:\n",
    "        fig = plt.figure(figsize=(10,10))\n",
    "        plotgrid(game_board)\n",
    "\n",
    "    # define a dictionary to collect our statistics\n",
    "    stats = {}\n",
    "    stats['empty'] = []\n",
    "    stats['tree'] = []\n",
    "    stats['fire'] = []\n",
    "    \n",
    "    # add stats to the dictionary lists\n",
    "    frac_empty, frac_tree, frac_fire = calc_stats(game_board)\n",
    "    stats['empty'].append(frac_empty)\n",
    "    stats['tree'].append(frac_tree)\n",
    "    stats['fire'].append(frac_fire)\n",
    "    \n",
    "    # while there is still fire\n",
    "    while has_fire(game_board):\n",
    "\n",
    "        # advance the game board\n",
    "        game_board = advance_board(game_board)\n",
    "    \n",
    "        if show_vis:\n",
    "            # show the game board\n",
    "            plotgrid(game_board)\n",
    "            time.sleep(0.01)  # \n",
    "            clear_output(wait=True)\n",
    "            display(fig)\n",
    "            fig.clear()\n",
    "        \n",
    "        # add stats to the dictionary lists\n",
    "        frac_empty, frac_tree, frac_fire = calc_stats(game_board)\n",
    "        stats['empty'].append(frac_empty)\n",
    "        stats['tree'].append(frac_tree)\n",
    "        stats['fire'].append(frac_fire)\n",
    "\n",
    "    if show_vis:\n",
    "        # close the plot\n",
    "        plt.close()\n",
    "    \n",
    "    return stats"
   ]
  },
  {
   "cell_type": "code",
   "execution_count": null,
   "id": "cf5a6157",
   "metadata": {},
   "outputs": [],
   "source": [
    "stats = forest_fire_model()"
   ]
  },
  {
   "cell_type": "markdown",
   "id": "61f92bc2",
   "metadata": {},
   "source": [
    "Since we saved the statistics, we can make a nice graph:"
   ]
  },
  {
   "cell_type": "code",
   "execution_count": null,
   "id": "a8817e79",
   "metadata": {},
   "outputs": [],
   "source": [
    "plt.plot(stats['empty'],color='black',label='empty')\n",
    "plt.plot(stats['tree'],color='green',label='tree')\n",
    "plt.plot(stats['fire'],color='red',label='fire')\n",
    "plt.legend()\n",
    "plt.xlabel('Time')\n",
    "plt.ylabel('Count')"
   ]
  },
  {
   "cell_type": "markdown",
   "id": "79b30325",
   "metadata": {},
   "source": [
    "### **Question 1 (10 points):** \n",
    "\n",
    "Run this code three times, saving the stats each time, and plot the results.\n",
    "\n",
    "Use a `subplot` command so you can view them all side-by-side.  \n",
    "\n",
    "**Tip:** to make it faster, call the `forest_fire_model` function with `show_vis=False`"
   ]
  },
  {
   "cell_type": "code",
   "execution_count": null,
   "id": "9978c6b0",
   "metadata": {},
   "outputs": [],
   "source": [
    "# your code here"
   ]
  },
  {
   "cell_type": "markdown",
   "id": "55e03340",
   "metadata": {},
   "source": [
    "**Q) What do you observe?  (3 points)**"
   ]
  },
  {
   "cell_type": "markdown",
   "id": "81f6608e",
   "metadata": {},
   "source": [
    "<font size=6 color=\"#009600\">&#9998;</font> *Put your text here*"
   ]
  },
  {
   "cell_type": "markdown",
   "id": "93b16b76",
   "metadata": {},
   "source": [
    "### **Question 2 (5 points):** \n",
    "\n",
    "Add a new mode to the `start_fire` function \n",
    "\n",
    "Below, is a copy of the `start_fire` function. You need to edit the code so that if it is called with `mode='point'` **then the board only sets one random cell on fire instead of the whole first line.** \n",
    "\n",
    "Keep `'line'` as the default value for `mode`. To get a random position in x and y, use `np.random.randint()` (instead of `np.random.random()`). Demonstrate that your code works by running the following cell."
   ]
  },
  {
   "cell_type": "code",
   "execution_count": null,
   "id": "99c862a3",
   "metadata": {},
   "outputs": [],
   "source": [
    "def start_fire(game_board,mode='line'):\n",
    "    '''\n",
    "    Starts a fire on the game board.\n",
    "    \n",
    "    Input: a game board\n",
    "    \n",
    "    Output: a game board with fire\n",
    "    '''\n",
    "    \n",
    "    if mode == 'line':\n",
    "        game_board[:,0] = 2\n",
    "    \n",
    "    return game_board"
   ]
  },
  {
   "cell_type": "code",
   "execution_count": null,
   "id": "54794e8b",
   "metadata": {},
   "outputs": [],
   "source": [
    "# testing start_fire with mode='point'\n",
    "\n",
    "game_board = set_trees()\n",
    "game_board = start_fire(game_board,mode='point')\n",
    "fig = plt.figure(figsize=(10,10))\n",
    "plotgrid(game_board)\n",
    "\n",
    "if (game_board==2).sum()==1:\n",
    "    print(\"Success!\")\n",
    "else:\n",
    "    print(\"Not working yet!\")"
   ]
  },
  {
   "cell_type": "markdown",
   "id": "93fa65ca",
   "metadata": {},
   "source": [
    "### Question 3 (5 points): \n",
    "\n",
    "Testing a `regrowth` function\n",
    "\n",
    "In the cell below, there is a function defined as `regrowth` that adds new trees by applying what amounts to a chance (or probability) that a tree \"grows\" there. "
   ]
  },
  {
   "cell_type": "code",
   "execution_count": null,
   "id": "4077c452",
   "metadata": {},
   "outputs": [],
   "source": [
    "def regrow(game_board,growth_rate=0.01):\n",
    "    new_board = np.copy(game_board)\n",
    "    for i in range(new_board.shape[0]):\n",
    "        for j in range(new_board.shape[1]):\n",
    "            # if the cell on the board is empty, there's a chance a new tree will spawn\n",
    "            if new_board[i,j] == 0:\n",
    "                if np.random.random() <= growth_rate: # if the random number exceeds growth_rate, grow a tree\n",
    "                    new_board[i,j] = 1\n",
    "                else:\n",
    "                    new_board[i,j] = 0\n",
    "\n",
    "    return new_board"
   ]
  },
  {
   "cell_type": "markdown",
   "id": "5616ba87",
   "metadata": {},
   "source": [
    "**Next,** demonstrate that this function works by initializing a board with `set_trees` with an initial tree fraction of 0.1, and then run it through three rounds of `regrow` with `growth_rate=0.5`.  \n",
    "\n",
    "Plot the original map **and** the map after each stage of regrowth in the same set of subplots.\n",
    "\n",
    "**Hint: Make a list of grids and then pass it to the `plotgrids` function, defined below.**"
   ]
  },
  {
   "cell_type": "code",
   "execution_count": null,
   "id": "32e3c8f8",
   "metadata": {},
   "outputs": [],
   "source": [
    "def plotgrids(grid_list,n_rows=1):\n",
    "    # determine the right number of columns using the number of grids\n",
    "    n_cols = int(np.ceil(len(grid_list)/n_rows))\n",
    "    \n",
    "    # defining a figure with the right size\n",
    "    plt.figure(figsize=(5*n_cols,5*n_rows))\n",
    "    \n",
    "    # looping through the grids\n",
    "    for i,grid in enumerate(grid_list):\n",
    "        # set the right plot for this grid\n",
    "        plt.subplot(n_rows,n_cols,i+1)\n",
    "        \n",
    "        # call the plotgrid function\n",
    "        plotgrid(grid,markersize=5)"
   ]
  },
  {
   "cell_type": "code",
   "execution_count": null,
   "id": "2d0bca5f",
   "metadata": {},
   "outputs": [],
   "source": [
    "# your code here"
   ]
  },
  {
   "cell_type": "markdown",
   "id": "8aed737b",
   "metadata": {},
   "source": [
    "### Question 4 (5 points):\n",
    "\n",
    "Model point fires and growth together!\n",
    "\n",
    "The following cell puts it all together.  It will model some number of years of the forest's dynamics, where trees grow, but a fire can start with a probability given by `fire_init_prob`. "
   ]
  },
  {
   "cell_type": "code",
   "execution_count": null,
   "id": "22174ebe",
   "metadata": {},
   "outputs": [],
   "source": [
    "def forest_fire_growth_model(\n",
    "    n_years,\n",
    "    fire_init_prob,\n",
    "    growth_rate,\n",
    "    f_trees_start,\n",
    "    board_size=50,\n",
    "    show_vis=True):\n",
    "\n",
    "    year = 0\n",
    "    \n",
    "    # build the initial board\n",
    "    game_board = set_trees(board_size=board_size, f_trees_start=f_trees_start)\n",
    "\n",
    "    # if we are supposed to show the plot, then plot the initial board\n",
    "    if show_vis:\n",
    "        fig = plt.figure(figsize=(10,10))\n",
    "        #plotgrid(game_board,title=f'Year {year}')\n",
    "        plotgrid(game_board)\n",
    "        time.sleep(0.01)  # \n",
    "        clear_output(wait=True)\n",
    "        display(fig)\n",
    "        fig.clear()\n",
    "\n",
    "    # define a dictionary to collect our statistics\n",
    "    stats = {}\n",
    "    stats['empty'] = []\n",
    "    stats['tree'] = []\n",
    "    stats['fire'] = []\n",
    "    \n",
    "    # add stats to the dictionary lists\n",
    "    frac_empty, frac_tree, frac_fire = calc_stats(game_board)\n",
    "    stats['empty'].append(frac_empty)\n",
    "    stats['tree'].append(frac_tree)\n",
    "    stats['fire'].append(frac_fire)\n",
    "    \n",
    "    # loop over the years\n",
    "    for year in range(1,n_years):\n",
    "        \n",
    "        # regrow\n",
    "        game_board = regrow(game_board,growth_rate=growth_rate)\n",
    "        \n",
    "        if show_vis:\n",
    "            plotgrid(game_board,title=f'Year {year}')\n",
    "            time.sleep(0.01)  # \n",
    "            clear_output(wait=True)\n",
    "            display(fig)\n",
    "            fig.clear()\n",
    "\n",
    "        # record number of trees to measure the fire size\n",
    "        num_trees_before = (game_board==1).sum()\n",
    "            \n",
    "        # start fire?\n",
    "        if np.random.random() < fire_init_prob:\n",
    "            game_board = start_fire(game_board,mode='point')\n",
    "                \n",
    "        # progress the fire until it is fully burned out \n",
    "        while has_fire(game_board):\n",
    "            \n",
    "            # advance the game board\n",
    "            game_board = advance_board(game_board)\n",
    "              \n",
    "            if show_vis:\n",
    "                # show the game board\n",
    "                plotgrid(game_board,title=f'Year {year} (Fire!)')\n",
    "                time.sleep(0.01)  # \n",
    "                clear_output(wait=True)\n",
    "                display(fig)\n",
    "                fig.clear()\n",
    "                \n",
    "        # record number of trees to measure the fire size\n",
    "        num_trees_after = (game_board==1).sum()\n",
    "        \n",
    "        # add stats to the dictionary lists\n",
    "        frac_empty, frac_tree, frac_fire = calc_stats(game_board)\n",
    "        stats['empty'].append(frac_empty)\n",
    "        stats['tree'].append(frac_tree)\n",
    "        \n",
    "        # now tracking the total number of trees removed by the fire\n",
    "        stats['fire'].append(num_trees_before - num_trees_after)\n",
    "\n",
    "    if show_vis:\n",
    "        # close the plot\n",
    "        plt.close()\n",
    "    \n",
    "    return stats"
   ]
  },
  {
   "cell_type": "markdown",
   "id": "14991889",
   "metadata": {},
   "source": [
    "Run the cell below (first with `show_vis=True`, but later with `show_vis=False` to speed things up), to see 150 years of forest action!"
   ]
  },
  {
   "cell_type": "code",
   "execution_count": null,
   "id": "640f4916",
   "metadata": {},
   "outputs": [],
   "source": [
    "stats = forest_fire_growth_model(f_trees_start=0.30,\n",
    "                                 n_years=150,\n",
    "                                 fire_init_prob=0.1,\n",
    "                                 growth_rate=0.005,\n",
    "                                 show_vis=True)"
   ]
  },
  {
   "cell_type": "markdown",
   "id": "2e225001",
   "metadata": {},
   "source": [
    "Use the cell below to plot the statistics from that run, which now track the maximum fire size for a given year in the `stats['fire']` list."
   ]
  },
  {
   "cell_type": "code",
   "execution_count": null,
   "id": "3ad8bea0",
   "metadata": {},
   "outputs": [],
   "source": [
    "plt.subplot(2,1,1)\n",
    "plt.plot(stats['empty'],color='black',label='empty')\n",
    "plt.plot(stats['tree'],color='green',label='tree')\n",
    "plt.xlabel('Time (years)')\n",
    "plt.ylabel('Fraction of cells')\n",
    "plt.legend()\n",
    "\n",
    "plt.subplot(2,1,2)\n",
    "plt.plot(stats['fire'],color='red',label='fire')\n",
    "plt.xlabel('Time (years)')\n",
    "plt.ylabel('Maximum fire size')"
   ]
  },
  {
   "cell_type": "markdown",
   "id": "39de7390",
   "metadata": {},
   "source": [
    "**What do you observe? Run the model two or three times to get a sense of the possible outcomes. (5 points)**"
   ]
  },
  {
   "cell_type": "markdown",
   "id": "153a4712",
   "metadata": {},
   "source": [
    "<font size=6 color=\"#009600\">&#9998;</font> *Put your text here*"
   ]
  },
  {
   "cell_type": "markdown",
   "id": "4cdde544",
   "metadata": {},
   "source": [
    "### Question 5 (10 points): Increasing the fire frequency\n",
    "\n",
    "Now we want to study how the size of the fires depends on the fire frequency. \n",
    "\n",
    "Let's examine four different values of `fire_init_prob`:  [0.01, 0.05, 0.1, 0.2].  Keep the other parameters as follows:\n",
    "\n",
    "```\n",
    "f_trees_start=0.30\n",
    "n_years=150\n",
    "growth_rate=0.005\n",
    "```\n",
    "\n",
    "For each value, run 10 different simulations, and determine the **size of the largest fire** in the 150-year span, which we will call `f_largest`.\n",
    "\n",
    "Then, report the **average of `f_largest`** for each value of `fire_init_prob`, along with a standard error of the mean.\n",
    "\n",
    "Remember, the standard error for a list can be calculated as follows:"
   ]
  },
  {
   "cell_type": "code",
   "execution_count": null,
   "id": "a40ca237",
   "metadata": {},
   "outputs": [],
   "source": [
    "def std_err(x_list):\n",
    "    return np.std(x_list)/np.sqrt(len(x_list))"
   ]
  },
  {
   "cell_type": "markdown",
   "id": "fe2d1ce5",
   "metadata": {},
   "source": [
    "**Tip:  for this section, it will definitely help to run with `show_vis=False`!**"
   ]
  },
  {
   "cell_type": "code",
   "execution_count": null,
   "id": "6dc1e269",
   "metadata": {},
   "outputs": [],
   "source": [
    "# your code here"
   ]
  },
  {
   "cell_type": "markdown",
   "id": "814e08a9",
   "metadata": {},
   "source": [
    "**What do you observe? How does the average size of the largest fire depend on the fire initialization probability parameter? (3 points)**"
   ]
  },
  {
   "cell_type": "markdown",
   "id": "33af3c85",
   "metadata": {},
   "source": [
    "<font size=6 color=\"#009600\">&#9998;</font> *Put your text here*"
   ]
  },
  {
   "cell_type": "markdown",
   "id": "518c396a",
   "metadata": {},
   "source": [
    "### Question 6 (8 points): Proposing solutions\n",
    "\n",
    "A reasonable goal would be to **minimize the chance of large fires occurring**, which can result in catastrophic damage and loss of life.\n",
    "\n",
    "Keeping in mind [the article on prescribed burns for forest management](https://www.vox.com/science-and-health/2022/6/15/23169428/wildfire-season-controlled-burn-climate), as well as what you learned from the model above, think about how intentionally starting fires in certain places and times could affect the dynamics of the forest.\n",
    "\n",
    "**Below, propose a policy for prescribed burns that could help minimize the size of the largest fires. (5 points)**"
   ]
  },
  {
   "cell_type": "markdown",
   "id": "ed0d828d",
   "metadata": {},
   "source": [
    "<font size=6 color=\"#009600\">&#9998;</font> *Put your text here*"
   ]
  },
  {
   "cell_type": "markdown",
   "id": "2e2f6dc5",
   "metadata": {},
   "source": [
    "**When considering a realistic policy, what are some important factors to consider that are not included in this simple model of forest fires? (Give at least three examples) (3 points)**"
   ]
  },
  {
   "cell_type": "markdown",
   "id": "117151bc",
   "metadata": {},
   "source": [
    "<font size=6 color=\"#009600\">&#9998;</font> *Put your text here*"
   ]
  },
  {
   "cell_type": "markdown",
   "id": "a242a14d",
   "metadata": {},
   "source": [
    "## Assignment instructions\n",
    "\n",
    "Work through the following assignment, making sure to follow all of the directions and answer all of the questions.\n",
    "\n",
    "It should be uploaded into the \"Homework Assignments\" dropbox folder for Homework #5.  Submission instructions can be found at the end of the notebook."
   ]
  }
 ],
 "metadata": {
  "kernelspec": {
   "display_name": "Python 3 (ipykernel)",
   "language": "python",
   "name": "python3"
  },
  "language_info": {
   "codemirror_mode": {
    "name": "ipython",
    "version": 3
   },
   "file_extension": ".py",
   "mimetype": "text/x-python",
   "name": "python",
   "nbconvert_exporter": "python",
   "pygments_lexer": "ipython3",
   "version": "3.11.3"
  }
 },
 "nbformat": 4,
 "nbformat_minor": 5
}
