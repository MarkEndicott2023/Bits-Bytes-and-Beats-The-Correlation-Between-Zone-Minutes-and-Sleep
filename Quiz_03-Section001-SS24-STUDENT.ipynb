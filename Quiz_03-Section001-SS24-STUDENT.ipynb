{
 "cells": [
  {
   "cell_type": "markdown",
   "id": "6ac1403f-3bcf-420e-996c-00e27a9e45a1",
   "metadata": {},
   "source": [
    "# CMSE 201: Quiz 3 (Spring 2024)\n",
    "\n",
    "## <p style=\"text-align: right;\"> &#9989; Put your name here</p>"
   ]
  },
  {
   "cell_type": "markdown",
   "id": "b08ebd34-95b3-4129-a61f-a12a5f2bcf3e",
   "metadata": {},
   "source": [
    "\n",
    "The goal of this quiz is to give you the opportunity to test out more of the skills that you've developed thus far this semester. In particular, you'll reflect on what you know about writing code using Python and showcase some of your more recently acquired programming skills.\n",
    "\n",
    "**Important note about using online resources**: This exam is \"open internet\". That means that you can look up documentation, google how to accomplish certain Python tasks, etc. Being able to effectively use the internet for computational modeling and data science is a very important skill, so we want to make sure you have the opportunity to exercise that skill. **However, the use of any person-to-person communication software is absolutely not acceptable.**\n",
    "\n",
    "**Do your own work.** This quiz is designed to give *you* the opportunity to show the instructor what you can do and you should hold yourself accountable for maintaining a high level of academic integrity. Any violation of academic integrity could result in you receiving a zero on the quiz.\n",
    "\n",
    "There are a total of **35 points** possible on this quiz and each part of the quiz can be done independently. **If you get stuck _move on to another part of the quiz to earn some points there!_**\n",
    "\n",
    "\n",
    "![Moira](https://media.giphy.com/media/26gs78HRO8sOuhTkQ/giphy.gif)"
   ]
  },
  {
   "cell_type": "markdown",
   "id": "7b8bb320-18cb-47a9-80b5-c41cc8639068",
   "metadata": {
    "ExecuteTime": {
     "end_time": "2023-04-03T16:42:19.977036Z",
     "start_time": "2023-04-03T16:42:19.973227Z"
    }
   },
   "source": [
    "## ---\n",
    "<a id=\"toc\"></a>\n",
    "\n",
    "## Table of Contents\n",
    "\n",
    "[Part 1. Loading and exploring data](#part_1)  (15 points)\n",
    "\n",
    "[Part 2. Data visualization](#part_1)  (20 points)\n"
   ]
  },
  {
   "cell_type": "code",
   "execution_count": 1,
   "id": "1bf21f35-4679-4444-aaac-451f074ac3b3",
   "metadata": {
    "ExecuteTime": {
     "end_time": "2023-04-03T16:42:40.056628Z",
     "start_time": "2023-04-03T16:42:40.054007Z"
    }
   },
   "outputs": [
    {
     "name": "stdout",
     "output_type": "stream",
     "text": [
      "The total number of points is : 35\n"
     ]
    }
   ],
   "source": [
    "points_list = [15, 20]\n",
    "\n",
    "print(f\"The total number of points is : {sum(points_list)}\")"
   ]
  },
  {
   "cell_type": "code",
   "execution_count": 2,
   "id": "546ee40a-5e9e-450f-ab1a-0f7424e672d2",
   "metadata": {
    "ExecuteTime": {
     "end_time": "2023-04-03T16:37:20.019134Z",
     "start_time": "2023-04-03T16:37:18.704180Z"
    }
   },
   "outputs": [],
   "source": [
    "import numpy as np\n",
    "import matplotlib.pyplot as plt\n",
    "\n",
    "%matplotlib inline\n",
    "import pandas as pd\n",
    "import seaborn as sns\n"
   ]
  },
  {
   "cell_type": "markdown",
   "id": "a4639997-1321-465a-9eae-445770dc1025",
   "metadata": {},
   "source": [
    "---\n",
    "<a id=\"part_1\"></a>\n",
    "\n",
    "# Part 1. Loading, exploring, and masking data with Pandas (15 points)\n",
    "[Back to Top](#toc)\n",
    "\n"
   ]
  },
  {
   "cell_type": "markdown",
   "id": "809e80e3-9a86-4c1f-af02-91f57ea0a1dc",
   "metadata": {},
   "source": [
    "### 1.1.1 Read the data \n",
    "&#9989; **Task: (2 points)** Read in the Automobile data file as a pandas dataframe and display the first 10 rows"
   ]
  },
  {
   "cell_type": "code",
   "execution_count": 3,
   "id": "df72c362-41db-4a72-9724-f603b922ff55",
   "metadata": {},
   "outputs": [
    {
     "data": {
      "text/html": [
       "<div>\n",
       "<style scoped>\n",
       "    .dataframe tbody tr th:only-of-type {\n",
       "        vertical-align: middle;\n",
       "    }\n",
       "\n",
       "    .dataframe tbody tr th {\n",
       "        vertical-align: top;\n",
       "    }\n",
       "\n",
       "    .dataframe thead th {\n",
       "        text-align: right;\n",
       "    }\n",
       "</style>\n",
       "<table border=\"1\" class=\"dataframe\">\n",
       "  <thead>\n",
       "    <tr style=\"text-align: right;\">\n",
       "      <th></th>\n",
       "      <th>mpg</th>\n",
       "      <th>cylinders</th>\n",
       "      <th>displacement</th>\n",
       "      <th>horsepower</th>\n",
       "      <th>weight</th>\n",
       "      <th>acceleration</th>\n",
       "      <th>year</th>\n",
       "      <th>origin</th>\n",
       "      <th>name</th>\n",
       "    </tr>\n",
       "  </thead>\n",
       "  <tbody>\n",
       "    <tr>\n",
       "      <th>0</th>\n",
       "      <td>18.0</td>\n",
       "      <td>8</td>\n",
       "      <td>307.0</td>\n",
       "      <td>130</td>\n",
       "      <td>3504</td>\n",
       "      <td>12.0</td>\n",
       "      <td>70</td>\n",
       "      <td>1</td>\n",
       "      <td>chevrolet chevelle malibu</td>\n",
       "    </tr>\n",
       "    <tr>\n",
       "      <th>1</th>\n",
       "      <td>15.0</td>\n",
       "      <td>8</td>\n",
       "      <td>350.0</td>\n",
       "      <td>165</td>\n",
       "      <td>3693</td>\n",
       "      <td>11.5</td>\n",
       "      <td>70</td>\n",
       "      <td>1</td>\n",
       "      <td>buick skylark 320</td>\n",
       "    </tr>\n",
       "    <tr>\n",
       "      <th>2</th>\n",
       "      <td>18.0</td>\n",
       "      <td>8</td>\n",
       "      <td>318.0</td>\n",
       "      <td>150</td>\n",
       "      <td>3436</td>\n",
       "      <td>11.0</td>\n",
       "      <td>70</td>\n",
       "      <td>1</td>\n",
       "      <td>plymouth satellite</td>\n",
       "    </tr>\n",
       "    <tr>\n",
       "      <th>3</th>\n",
       "      <td>16.0</td>\n",
       "      <td>8</td>\n",
       "      <td>304.0</td>\n",
       "      <td>150</td>\n",
       "      <td>3433</td>\n",
       "      <td>12.0</td>\n",
       "      <td>70</td>\n",
       "      <td>1</td>\n",
       "      <td>amc rebel sst</td>\n",
       "    </tr>\n",
       "    <tr>\n",
       "      <th>4</th>\n",
       "      <td>17.0</td>\n",
       "      <td>8</td>\n",
       "      <td>302.0</td>\n",
       "      <td>140</td>\n",
       "      <td>3449</td>\n",
       "      <td>10.5</td>\n",
       "      <td>70</td>\n",
       "      <td>1</td>\n",
       "      <td>ford torino</td>\n",
       "    </tr>\n",
       "    <tr>\n",
       "      <th>5</th>\n",
       "      <td>15.0</td>\n",
       "      <td>8</td>\n",
       "      <td>429.0</td>\n",
       "      <td>198</td>\n",
       "      <td>4341</td>\n",
       "      <td>10.0</td>\n",
       "      <td>70</td>\n",
       "      <td>1</td>\n",
       "      <td>ford galaxie 500</td>\n",
       "    </tr>\n",
       "    <tr>\n",
       "      <th>6</th>\n",
       "      <td>14.0</td>\n",
       "      <td>8</td>\n",
       "      <td>454.0</td>\n",
       "      <td>220</td>\n",
       "      <td>4354</td>\n",
       "      <td>9.0</td>\n",
       "      <td>70</td>\n",
       "      <td>1</td>\n",
       "      <td>chevrolet impala</td>\n",
       "    </tr>\n",
       "    <tr>\n",
       "      <th>7</th>\n",
       "      <td>14.0</td>\n",
       "      <td>8</td>\n",
       "      <td>440.0</td>\n",
       "      <td>215</td>\n",
       "      <td>4312</td>\n",
       "      <td>8.5</td>\n",
       "      <td>70</td>\n",
       "      <td>1</td>\n",
       "      <td>plymouth fury iii</td>\n",
       "    </tr>\n",
       "    <tr>\n",
       "      <th>8</th>\n",
       "      <td>14.0</td>\n",
       "      <td>8</td>\n",
       "      <td>455.0</td>\n",
       "      <td>225</td>\n",
       "      <td>4425</td>\n",
       "      <td>10.0</td>\n",
       "      <td>70</td>\n",
       "      <td>1</td>\n",
       "      <td>pontiac catalina</td>\n",
       "    </tr>\n",
       "    <tr>\n",
       "      <th>9</th>\n",
       "      <td>15.0</td>\n",
       "      <td>8</td>\n",
       "      <td>390.0</td>\n",
       "      <td>190</td>\n",
       "      <td>3850</td>\n",
       "      <td>8.5</td>\n",
       "      <td>70</td>\n",
       "      <td>1</td>\n",
       "      <td>amc ambassador dpl</td>\n",
       "    </tr>\n",
       "  </tbody>\n",
       "</table>\n",
       "</div>"
      ],
      "text/plain": [
       "    mpg  cylinders  displacement horsepower  weight  acceleration  year  \\\n",
       "0  18.0          8         307.0        130    3504          12.0    70   \n",
       "1  15.0          8         350.0        165    3693          11.5    70   \n",
       "2  18.0          8         318.0        150    3436          11.0    70   \n",
       "3  16.0          8         304.0        150    3433          12.0    70   \n",
       "4  17.0          8         302.0        140    3449          10.5    70   \n",
       "5  15.0          8         429.0        198    4341          10.0    70   \n",
       "6  14.0          8         454.0        220    4354           9.0    70   \n",
       "7  14.0          8         440.0        215    4312           8.5    70   \n",
       "8  14.0          8         455.0        225    4425          10.0    70   \n",
       "9  15.0          8         390.0        190    3850           8.5    70   \n",
       "\n",
       "   origin                       name  \n",
       "0       1  chevrolet chevelle malibu  \n",
       "1       1          buick skylark 320  \n",
       "2       1         plymouth satellite  \n",
       "3       1              amc rebel sst  \n",
       "4       1                ford torino  \n",
       "5       1           ford galaxie 500  \n",
       "6       1           chevrolet impala  \n",
       "7       1          plymouth fury iii  \n",
       "8       1           pontiac catalina  \n",
       "9       1         amc ambassador dpl  "
      ]
     },
     "execution_count": 3,
     "metadata": {},
     "output_type": "execute_result"
    }
   ],
   "source": [
    "data = pd.read_csv(\"Auto.csv\")\n",
    "data.iloc[0:10]"
   ]
  },
  {
   "cell_type": "markdown",
   "id": "125517b1-a3ea-43a1-8858-8f354f320223",
   "metadata": {},
   "source": [
    "As you can see, this dataset contains information about automobiles. The columns are mostly self-explanatory, except for **'origin'**, which represents the country of origin for the car: **1** stands for American, **2** for European, and **3** for Japanese."
   ]
  },
  {
   "cell_type": "markdown",
   "id": "21c4f5f4-1345-4e2b-92e8-a8339c76ef11",
   "metadata": {},
   "source": [
    "### 1.2 Describe the data (6 points)\n",
    "&#9989; **Task: (6 points)** Now, write some code to inspect some of the properties of the data and then answer the following questions:\n",
    "\n",
    "* Use a command to look at summary statistics (like the count, min, max, and mean) for columns with continuous data\n",
    "* What are the names of the columns?\n",
    "* How many rows are in this dataset?\n",
    "* How many different (or `unique`) cylinders are in the dataset?\n",
    "* Using `.iloc`, display the rows from 26 to 36 of the `horsepower` column.\n",
    "* Using `dropna()`function drop the missing values."
   ]
  },
  {
   "cell_type": "markdown",
   "id": "8f0d5a93-b0f9-40f6-adfb-3294b63bcc9b",
   "metadata": {},
   "source": [
    "**1.** Use a command to look at summary statistics (like the count, min, max, and mean) for columns with continuous data"
   ]
  },
  {
   "cell_type": "code",
   "execution_count": 4,
   "id": "769741e5-d8b1-4199-87ca-52b213a4e6cd",
   "metadata": {
    "ExecuteTime": {
     "end_time": "2023-04-03T16:15:49.913164Z",
     "start_time": "2023-04-03T16:15:49.911172Z"
    }
   },
   "outputs": [
    {
     "data": {
      "text/html": [
       "<div>\n",
       "<style scoped>\n",
       "    .dataframe tbody tr th:only-of-type {\n",
       "        vertical-align: middle;\n",
       "    }\n",
       "\n",
       "    .dataframe tbody tr th {\n",
       "        vertical-align: top;\n",
       "    }\n",
       "\n",
       "    .dataframe thead th {\n",
       "        text-align: right;\n",
       "    }\n",
       "</style>\n",
       "<table border=\"1\" class=\"dataframe\">\n",
       "  <thead>\n",
       "    <tr style=\"text-align: right;\">\n",
       "      <th></th>\n",
       "      <th>mpg</th>\n",
       "      <th>cylinders</th>\n",
       "      <th>displacement</th>\n",
       "      <th>weight</th>\n",
       "      <th>acceleration</th>\n",
       "      <th>year</th>\n",
       "      <th>origin</th>\n",
       "    </tr>\n",
       "  </thead>\n",
       "  <tbody>\n",
       "    <tr>\n",
       "      <th>count</th>\n",
       "      <td>397.000000</td>\n",
       "      <td>397.000000</td>\n",
       "      <td>397.000000</td>\n",
       "      <td>397.000000</td>\n",
       "      <td>397.000000</td>\n",
       "      <td>397.000000</td>\n",
       "      <td>397.000000</td>\n",
       "    </tr>\n",
       "    <tr>\n",
       "      <th>mean</th>\n",
       "      <td>23.515869</td>\n",
       "      <td>5.458438</td>\n",
       "      <td>193.532746</td>\n",
       "      <td>2970.261965</td>\n",
       "      <td>15.555668</td>\n",
       "      <td>75.994962</td>\n",
       "      <td>1.574307</td>\n",
       "    </tr>\n",
       "    <tr>\n",
       "      <th>std</th>\n",
       "      <td>7.825804</td>\n",
       "      <td>1.701577</td>\n",
       "      <td>104.379583</td>\n",
       "      <td>847.904119</td>\n",
       "      <td>2.749995</td>\n",
       "      <td>3.690005</td>\n",
       "      <td>0.802549</td>\n",
       "    </tr>\n",
       "    <tr>\n",
       "      <th>min</th>\n",
       "      <td>9.000000</td>\n",
       "      <td>3.000000</td>\n",
       "      <td>68.000000</td>\n",
       "      <td>1613.000000</td>\n",
       "      <td>8.000000</td>\n",
       "      <td>70.000000</td>\n",
       "      <td>1.000000</td>\n",
       "    </tr>\n",
       "    <tr>\n",
       "      <th>25%</th>\n",
       "      <td>17.500000</td>\n",
       "      <td>4.000000</td>\n",
       "      <td>104.000000</td>\n",
       "      <td>2223.000000</td>\n",
       "      <td>13.800000</td>\n",
       "      <td>73.000000</td>\n",
       "      <td>1.000000</td>\n",
       "    </tr>\n",
       "    <tr>\n",
       "      <th>50%</th>\n",
       "      <td>23.000000</td>\n",
       "      <td>4.000000</td>\n",
       "      <td>146.000000</td>\n",
       "      <td>2800.000000</td>\n",
       "      <td>15.500000</td>\n",
       "      <td>76.000000</td>\n",
       "      <td>1.000000</td>\n",
       "    </tr>\n",
       "    <tr>\n",
       "      <th>75%</th>\n",
       "      <td>29.000000</td>\n",
       "      <td>8.000000</td>\n",
       "      <td>262.000000</td>\n",
       "      <td>3609.000000</td>\n",
       "      <td>17.100000</td>\n",
       "      <td>79.000000</td>\n",
       "      <td>2.000000</td>\n",
       "    </tr>\n",
       "    <tr>\n",
       "      <th>max</th>\n",
       "      <td>46.600000</td>\n",
       "      <td>8.000000</td>\n",
       "      <td>455.000000</td>\n",
       "      <td>5140.000000</td>\n",
       "      <td>24.800000</td>\n",
       "      <td>82.000000</td>\n",
       "      <td>3.000000</td>\n",
       "    </tr>\n",
       "  </tbody>\n",
       "</table>\n",
       "</div>"
      ],
      "text/plain": [
       "              mpg   cylinders  displacement       weight  acceleration  \\\n",
       "count  397.000000  397.000000    397.000000   397.000000    397.000000   \n",
       "mean    23.515869    5.458438    193.532746  2970.261965     15.555668   \n",
       "std      7.825804    1.701577    104.379583   847.904119      2.749995   \n",
       "min      9.000000    3.000000     68.000000  1613.000000      8.000000   \n",
       "25%     17.500000    4.000000    104.000000  2223.000000     13.800000   \n",
       "50%     23.000000    4.000000    146.000000  2800.000000     15.500000   \n",
       "75%     29.000000    8.000000    262.000000  3609.000000     17.100000   \n",
       "max     46.600000    8.000000    455.000000  5140.000000     24.800000   \n",
       "\n",
       "             year      origin  \n",
       "count  397.000000  397.000000  \n",
       "mean    75.994962    1.574307  \n",
       "std      3.690005    0.802549  \n",
       "min     70.000000    1.000000  \n",
       "25%     73.000000    1.000000  \n",
       "50%     76.000000    1.000000  \n",
       "75%     79.000000    2.000000  \n",
       "max     82.000000    3.000000  "
      ]
     },
     "execution_count": 4,
     "metadata": {},
     "output_type": "execute_result"
    }
   ],
   "source": [
    "data.describe()"
   ]
  },
  {
   "cell_type": "markdown",
   "id": "85a7fd5b-4cce-49f8-963b-7f9bb38ca354",
   "metadata": {},
   "source": [
    "**2.** What are the names of the columns?"
   ]
  },
  {
   "cell_type": "code",
   "execution_count": 5,
   "id": "3531ecb4-c340-489c-bd55-ffe659239db1",
   "metadata": {},
   "outputs": [
    {
     "name": "stdout",
     "output_type": "stream",
     "text": [
      "Index(['mpg', 'cylinders', 'displacement', 'horsepower', 'weight',\n",
      "       'acceleration', 'year', 'origin', 'name'],\n",
      "      dtype='object')\n"
     ]
    }
   ],
   "source": [
    "c = data.columns\n",
    "print(c)"
   ]
  },
  {
   "cell_type": "markdown",
   "id": "f5e605b3-df2b-47d6-8e2d-65b1bd22b0c4",
   "metadata": {},
   "source": [
    "**3.** How many rows are in this dataset?"
   ]
  },
  {
   "cell_type": "code",
   "execution_count": 6,
   "id": "41dc5e3e-cf38-41f0-9ce4-6a8eb64a7efe",
   "metadata": {},
   "outputs": [
    {
     "name": "stdout",
     "output_type": "stream",
     "text": [
      "397\n"
     ]
    }
   ],
   "source": [
    "print(len(data[\"origin\"]))"
   ]
  },
  {
   "cell_type": "markdown",
   "id": "fd3a8978-767b-41b0-9b1b-f5cca8bca308",
   "metadata": {},
   "source": [
    "**4.** How many different (or `unique`) cylinders are in the dataset?"
   ]
  },
  {
   "cell_type": "code",
   "execution_count": 7,
   "id": "c07d8dc4-bbc1-48c6-9c67-905646163006",
   "metadata": {},
   "outputs": [
    {
     "name": "stdout",
     "output_type": "stream",
     "text": [
      "[8 4 6 3 5]\n"
     ]
    }
   ],
   "source": [
    "print(data[\"cylinders\"].unique())"
   ]
  },
  {
   "cell_type": "markdown",
   "id": "c5772f0b-8fbc-4858-81c6-16bfd5549112",
   "metadata": {},
   "source": [
    "**5.** Using `.iloc`, display the rows from 26 to 36 of the `horsepower` column."
   ]
  },
  {
   "cell_type": "code",
   "execution_count": 8,
   "id": "1dd8deb0-dfac-4762-85ae-1f33ec6640ec",
   "metadata": {},
   "outputs": [
    {
     "name": "stdout",
     "output_type": "stream",
     "text": [
      "horsepower \n",
      " 26    200\n",
      "27    210\n",
      "28    193\n",
      "29     88\n",
      "30     90\n",
      "31     95\n",
      "32      ?\n",
      "33    100\n",
      "34    105\n",
      "35    100\n",
      "36     88\n",
      "Name: horsepower, dtype: object\n"
     ]
    }
   ],
   "source": [
    "print(c[3], '\\n', data.iloc[26:37,3])"
   ]
  },
  {
   "cell_type": "markdown",
   "id": "0d03b54f-495c-451f-b639-7b87eee0657c",
   "metadata": {},
   "source": [
    "From the above code, we can find '?' in row 32 which means the value is missing, you can use `replace` function to replace it with 'nan' and then drop the missing values."
   ]
  },
  {
   "cell_type": "code",
   "execution_count": 9,
   "id": "ffa17388-14f0-4dc3-adfd-9f45e0396a41",
   "metadata": {},
   "outputs": [
    {
     "name": "stdout",
     "output_type": "stream",
     "text": [
      "horsepower \n",
      " 26    200\n",
      "27    210\n",
      "28    193\n",
      "29     88\n",
      "30     90\n",
      "31     95\n",
      "32    NaN\n",
      "33    100\n",
      "34    105\n",
      "35    100\n",
      "36     88\n",
      "Name: horsepower, dtype: object\n"
     ]
    }
   ],
   "source": [
    "### Example of replacing \"?\" with nan in data_df\n",
    "data = data.replace(\"?\", np.nan)\n",
    "print(c[3], '\\n', data.iloc[26:37,3])"
   ]
  },
  {
   "cell_type": "markdown",
   "id": "221c9d55-45c3-4ac6-8beb-c224248aec3c",
   "metadata": {},
   "source": [
    "**6.** Using `dropna()`function drop the missing values."
   ]
  },
  {
   "cell_type": "code",
   "execution_count": 10,
   "id": "23abbb18-1f43-4c45-8599-aa7290ca4c77",
   "metadata": {},
   "outputs": [
    {
     "name": "stdout",
     "output_type": "stream",
     "text": [
      "horsepower \n",
      " 26    200\n",
      "27    210\n",
      "28    193\n",
      "29     88\n",
      "30     90\n",
      "31     95\n",
      "33    100\n",
      "34    105\n",
      "35    100\n",
      "36     88\n",
      "37    100\n",
      "Name: horsepower, dtype: object\n"
     ]
    }
   ],
   "source": [
    "data = data.dropna()\n",
    "print(c[3], '\\n', data.iloc[26:37,3])\n",
    "# Row is gone!"
   ]
  },
  {
   "cell_type": "markdown",
   "id": "67b772e2-9662-45e6-ba82-bc4e4c478003",
   "metadata": {},
   "source": [
    "### 1.2 Visualization and data analysis (7 points)\n",
    "\n",
    "Now that you understand a bit about the overall information of the data, you want to use `seaborn` to examine the type of engine cylinder that has the highest `mpg` value. \n",
    "\n",
    "&#9989; **Task: (5 points)** Make a boxplot comparing the `mpg` values of different cylinder dates where the x-axis is \"cylinders\" and the y-axis \"mpg\". \n",
    "\n",
    "Your plot should:\n",
    "\n",
    "1. have a figure of size (10, 8)\n",
    "2. include axis labels\n",
    "3. have a title\n"
   ]
  },
  {
   "cell_type": "code",
   "execution_count": 11,
   "id": "fd77747e-38b4-438d-be01-59eca299165f",
   "metadata": {},
   "outputs": [
    {
     "data": {
      "image/png": "[encoded data removed]",
      "text/plain": [
       "<Figure size 1000x800 with 1 Axes>"
      ]
     },
     "metadata": {},
     "output_type": "display_data"
    }
   ],
   "source": [
    "#data = sns.load_dataset(\"Auto.csv\")\n",
    "plt.figure(figsize=(10,8));\n",
    "sns.boxplot(x=data[\"cylinders\"],y=data[\"mpg\"],data=data);\n",
    "plt.title(\"MPG per Cylinder Type\");\n"
   ]
  },
  {
   "cell_type": "markdown",
   "id": "96d080b2-364b-47c6-9289-84315504f908",
   "metadata": {},
   "source": [
    "&#9989; **Question: (2 points)** Based on your graph, answer these questions:\n",
    "\n",
    "1. What type of cylinder engine has the highest mpg value?\n",
    "2. What type of cylinder engine has the lowest mpg value?\n"
   ]
  },
  {
   "cell_type": "markdown",
   "id": "66e2a237-158d-4681-bd89-7d93d21dcdb8",
   "metadata": {
    "execution": {
     "iopub.execute_input": "2024-03-09T00:57:25.530231Z",
     "iopub.status.busy": "2024-03-09T00:57:25.529472Z",
     "iopub.status.idle": "2024-03-09T00:57:25.537356Z",
     "shell.execute_reply": "2024-03-09T00:57:25.535748Z",
     "shell.execute_reply.started": "2024-03-09T00:57:25.530180Z"
    }
   },
   "source": [
    "1. The 4 cylinder engine has the highest median mpg value as indicated by the line in the middle of the orange box. 4 also spreads to the highest point compared to the other boxes.\n",
    "2. The 8 cylinder engine has the lowest median and it's entire spread is below all other boxes in terms of mpg."
   ]
  },
  {
   "cell_type": "markdown",
   "id": "b496f755-0e03-4a41-9ee3-919ef8fb3414",
   "metadata": {},
   "source": [
    "## Part 2  Correlations and its visualization[20 points]\n",
    "\n",
    "As you can see there are columns with numerical values and columns with string values in the above automobile dataset. Obviously, we can look for correlations only on the f columns with numerical values.\n",
    "\n",
    "### 2.1 Find the correlation between columns with numerical values [5 points]\n",
    "&#9989;&nbsp; **Task (2 points):** Print a correlation matrix of the columns with numerical values in the above dataframe. _Hint:_ Look up the `corr` function of dataframes, if you have both numerical values and string values in dataframe, then you should let `numerical_only = True` in the `corr` function.\n",
    "\n",
    "[Back to Top](#toc)\n",
    "\n"
   ]
  },
  {
   "cell_type": "code",
   "execution_count": 12,
   "id": "82b42e77-bf4b-4749-906d-49fee644eed8",
   "metadata": {},
   "outputs": [
    {
     "data": {
      "text/html": [
       "<div>\n",
       "<style scoped>\n",
       "    .dataframe tbody tr th:only-of-type {\n",
       "        vertical-align: middle;\n",
       "    }\n",
       "\n",
       "    .dataframe tbody tr th {\n",
       "        vertical-align: top;\n",
       "    }\n",
       "\n",
       "    .dataframe thead th {\n",
       "        text-align: right;\n",
       "    }\n",
       "</style>\n",
       "<table border=\"1\" class=\"dataframe\">\n",
       "  <thead>\n",
       "    <tr style=\"text-align: right;\">\n",
       "      <th></th>\n",
       "      <th>mpg</th>\n",
       "      <th>cylinders</th>\n",
       "      <th>displacement</th>\n",
       "      <th>weight</th>\n",
       "      <th>acceleration</th>\n",
       "      <th>year</th>\n",
       "      <th>origin</th>\n",
       "    </tr>\n",
       "  </thead>\n",
       "  <tbody>\n",
       "    <tr>\n",
       "      <th>mpg</th>\n",
       "      <td>1.000000</td>\n",
       "      <td>-0.777618</td>\n",
       "      <td>-0.805127</td>\n",
       "      <td>-0.832244</td>\n",
       "      <td>0.423329</td>\n",
       "      <td>0.580541</td>\n",
       "      <td>0.565209</td>\n",
       "    </tr>\n",
       "    <tr>\n",
       "      <th>cylinders</th>\n",
       "      <td>-0.777618</td>\n",
       "      <td>1.000000</td>\n",
       "      <td>0.950823</td>\n",
       "      <td>0.897527</td>\n",
       "      <td>-0.504683</td>\n",
       "      <td>-0.345647</td>\n",
       "      <td>-0.568932</td>\n",
       "    </tr>\n",
       "    <tr>\n",
       "      <th>displacement</th>\n",
       "      <td>-0.805127</td>\n",
       "      <td>0.950823</td>\n",
       "      <td>1.000000</td>\n",
       "      <td>0.932994</td>\n",
       "      <td>-0.543800</td>\n",
       "      <td>-0.369855</td>\n",
       "      <td>-0.614535</td>\n",
       "    </tr>\n",
       "    <tr>\n",
       "      <th>weight</th>\n",
       "      <td>-0.832244</td>\n",
       "      <td>0.897527</td>\n",
       "      <td>0.932994</td>\n",
       "      <td>1.000000</td>\n",
       "      <td>-0.416839</td>\n",
       "      <td>-0.309120</td>\n",
       "      <td>-0.585005</td>\n",
       "    </tr>\n",
       "    <tr>\n",
       "      <th>acceleration</th>\n",
       "      <td>0.423329</td>\n",
       "      <td>-0.504683</td>\n",
       "      <td>-0.543800</td>\n",
       "      <td>-0.416839</td>\n",
       "      <td>1.000000</td>\n",
       "      <td>0.290316</td>\n",
       "      <td>0.212746</td>\n",
       "    </tr>\n",
       "    <tr>\n",
       "      <th>year</th>\n",
       "      <td>0.580541</td>\n",
       "      <td>-0.345647</td>\n",
       "      <td>-0.369855</td>\n",
       "      <td>-0.309120</td>\n",
       "      <td>0.290316</td>\n",
       "      <td>1.000000</td>\n",
       "      <td>0.181528</td>\n",
       "    </tr>\n",
       "    <tr>\n",
       "      <th>origin</th>\n",
       "      <td>0.565209</td>\n",
       "      <td>-0.568932</td>\n",
       "      <td>-0.614535</td>\n",
       "      <td>-0.585005</td>\n",
       "      <td>0.212746</td>\n",
       "      <td>0.181528</td>\n",
       "      <td>1.000000</td>\n",
       "    </tr>\n",
       "  </tbody>\n",
       "</table>\n",
       "</div>"
      ],
      "text/plain": [
       "                   mpg  cylinders  displacement    weight  acceleration  \\\n",
       "mpg           1.000000  -0.777618     -0.805127 -0.832244      0.423329   \n",
       "cylinders    -0.777618   1.000000      0.950823  0.897527     -0.504683   \n",
       "displacement -0.805127   0.950823      1.000000  0.932994     -0.543800   \n",
       "weight       -0.832244   0.897527      0.932994  1.000000     -0.416839   \n",
       "acceleration  0.423329  -0.504683     -0.543800 -0.416839      1.000000   \n",
       "year          0.580541  -0.345647     -0.369855 -0.309120      0.290316   \n",
       "origin        0.565209  -0.568932     -0.614535 -0.585005      0.212746   \n",
       "\n",
       "                  year    origin  \n",
       "mpg           0.580541  0.565209  \n",
       "cylinders    -0.345647 -0.568932  \n",
       "displacement -0.369855 -0.614535  \n",
       "weight       -0.309120 -0.585005  \n",
       "acceleration  0.290316  0.212746  \n",
       "year          1.000000  0.181528  \n",
       "origin        0.181528  1.000000  "
      ]
     },
     "execution_count": 12,
     "metadata": {},
     "output_type": "execute_result"
    }
   ],
   "source": [
    "numerical_columns = data.select_dtypes(include=['number'])\n",
    "\n",
    "corr_m = numerical_columns.corr()\n",
    "\n",
    "corr_m\n",
    "\n",
    "#Help from chatGPT."
   ]
  },
  {
   "cell_type": "markdown",
   "id": "cb94d94b-9afb-4249-8f12-963b93a45ac3",
   "metadata": {},
   "source": [
    "&#9989;&nbsp; **Task (3 points):** Based on the correlation matrix of the columns, please answer the following questions\n",
    "\n",
    "- **1.** Which columns have a positive correlation with **mpg**?\n",
    "- **2.** Which columns have a negative correlation with **mpg**?"
   ]
  },
  {
   "cell_type": "markdown",
   "id": "9f862aa7-3e10-4bda-8b65-733855c86d11",
   "metadata": {},
   "source": [
    "1. With mpg, mpg, acceleration, year, and origin have a positive correlation.\n",
    "2. With mpg, cylinders, diplacement, and weight columns have a negative correlation."
   ]
  },
  {
   "cell_type": "markdown",
   "id": "b107d26b-42b8-4bbf-a7a0-2bc9c09720ee",
   "metadata": {},
   "source": [
    "### 2.2 Correlation visualization [15 points]\n",
    "The numbers above give us a quantitative measure of the correlations in the dataset. In this part, we want to visualize the correlations.\n",
    "Normal plots can only show two columns of data at a time. However, there are ways to show three or four columns of data at the same time. (More than four is still possible, however, that plot might be confusing to understand.) The way to plot three columns of data at once is to use the x-axis, y-axis, and color-axis. You have done this before, so let's do it again. \n",
    "\n",
    "&#9989;&nbsp; **Task (11 points):** In the above, we have noticed that mpg and time year have a positive correlation, in the following, you will use `seaborn` to make one figure containing mpg, year, and origin columns' information.\n",
    "\n",
    "The x-axis and y-axis will contain column **year** and **mpg** information, while the color axis will be used for the origin. Here origin **1** stands for American, **2** for European, and **3** for Japanese.\n",
    "\n",
    "Your plot should have the following characteristics:\n",
    "- The entire figure should be 10 inches wide and 8 inches tall **(1 point)**.\n",
    "- Time year on the $x$ -axis and mpg on the $y$ -axis **(2 point)**\n",
    "- Label the $x$-axis as **Time (Year)** and the $y$-axis as **MPG** **(1 point)**\n",
    "- Color the origin based on their origin. **(2 points)**.\n",
    "- Show the legend **(1 point)**.\n",
    "\n",
    "**Side notes**\n",
    "\n",
    "You can choose any color scheme you want as long as it clearly differentiates the origin. The color scheme used in the example plot is given below, if you want to use it. \n",
    "\n",
    "We want to make a plot similar to this one\n",
    "![mpg_year](./mpg_year.png)"
   ]
  },
  {
   "cell_type": "code",
   "execution_count": 13,
   "id": "e949009b-2985-461b-a2ec-bca1d1384d9b",
   "metadata": {},
   "outputs": [
    {
     "name": "stderr",
     "output_type": "stream",
     "text": [
      "No artists with labels found to put in legend.  Note that artists whose label start with an underscore are ignored when legend() is called with no argument.\n"
     ]
    },
    {
     "data": {
      "text/plain": [
       "<matplotlib.legend.Legend at 0x1841b3f1900>"
      ]
     },
     "execution_count": 13,
     "metadata": {},
     "output_type": "execute_result"
    },
    {
     "data": {
      "image/png": "[encoded data removed]",
      "text/plain": [
       "<Figure size 1000x800 with 1 Axes>"
      ]
     },
     "metadata": {},
     "output_type": "display_data"
    }
   ],
   "source": [
    "# These colors are a personal choice of one of the instructors. \n",
    "# You don't have to choose this, you can choose any color scheme you want. \n",
    "# If you are interested in knowing more about this color scheme Google \"Okabe-Ito color palette\"\n",
    "scolor = [\"#E69F00\", \"#000000\", \"#0072B2\"]\n",
    "\n",
    "plt.figure(figsize=(10,8));\n",
    "sns.boxplot(x=data[\"year\"], y=data[\"mpg\"])\n",
    "plt.legend()"
   ]
  },
  {
   "cell_type": "markdown",
   "id": "668f6ae5-e114-40db-bc64-bf621a3de92b",
   "metadata": {},
   "source": [
    "&#9989;&nbsp; **Questions: (4 points)** Looking at the plot, \n",
    "1. Which origin engine has the highest mpg values?\n",
    "2. Which origin engine has the lowest mpg values?"
   ]
  },
  {
   "cell_type": "code",
   "execution_count": 14,
   "id": "f33af37c-c53f-4fd2-8c4b-2f22814a993d",
   "metadata": {},
   "outputs": [],
   "source": [
    "# Put your answer here"
   ]
  },
  {
   "cell_type": "markdown",
   "id": "176fb174-ebf1-46bd-a4d8-77ff6e0cfc04",
   "metadata": {},
   "source": [
    "---\n",
    "\n",
    "# Congratulations, you're done!\n",
    "\n",
    "Submit this quiz by uploading it to the course Desire2Learn web page.  \n",
    "\n",
    "Go to the **Quizzes** section, find the submission folder link for **Quiz 03**, and upload it there.\n",
    "\n",
    "\n",
    "![Moira2](https://media.giphy.com/media/d1E2HnwywoTkES08/giphy.gif)"
   ]
  },
  {
   "cell_type": "code",
   "execution_count": null,
   "id": "ed11e1d2",
   "metadata": {},
   "outputs": [],
   "source": []
  }
 ],
 "metadata": {
  "kernelspec": {
   "display_name": "Python 3 (ipykernel)",
   "language": "python",
   "name": "python3"
  },
  "language_info": {
   "codemirror_mode": {
    "name": "ipython",
    "version": 3
   },
   "file_extension": ".py",
   "mimetype": "text/x-python",
   "name": "python",
   "nbconvert_exporter": "python",
   "pygments_lexer": "ipython3",
   "version": "3.10.9"
  }
 },
 "nbformat": 4,
 "nbformat_minor": 5
}
