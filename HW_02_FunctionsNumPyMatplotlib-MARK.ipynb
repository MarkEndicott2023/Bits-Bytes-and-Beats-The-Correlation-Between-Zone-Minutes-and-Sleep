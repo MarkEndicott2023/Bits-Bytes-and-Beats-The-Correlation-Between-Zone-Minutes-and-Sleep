{
 "cells": [
  {
   "cell_type": "markdown",
   "id": "45bb8053-48ae-4a43-9420-7531a2088f70",
   "metadata": {},
   "source": [
    "# Homework 2: Functions, NumPy, and Matplotlib"
   ]
  },
  {
   "cell_type": "markdown",
   "id": "369b25c4-5270-44f7-b4aa-5de43f181457",
   "metadata": {},
   "source": [
    "### <p style=\"text-align: right;\"> &#9989; **Mark Endicott** </p>"
   ]
  },
  {
   "cell_type": "markdown",
   "id": "9db8f7d4-bb38-4e4d-81eb-b3f4a29e4390",
   "metadata": {},
   "source": [
    "## Learning Goals\n",
    "\n",
    "### Content Goals\n",
    "- Writing, testing, and using functions.\n",
    "- Use NumPy for numerical calculations.\n",
    "- Visualize data using Matplotlib.\n",
    "\n",
    "### Practice Goals\n",
    "- Use the internet as a resource for learning how to write code, learn new things, and troubleshoot problems\n",
    "- Solve a variety of problems using code\n",
    "- Troubleshoot errors and debug your code as issues arise (you'll do this all the time in this course!)\n",
    "___\n",
    "\n"
   ]
  },
  {
   "cell_type": "markdown",
   "id": "e2d25c6b-8ba7-4899-b2aa-e1c9db4ade5c",
   "metadata": {},
   "source": [
    "## Assignment instructions\n",
    "\n",
    "Work through the following assignment, making sure to follow all the directions and answer all the questions.\n",
    "\n",
    "**This assignment is due at 11:59 pm on Monday, February 19.** It should be uploaded into the \"Homework Assignments\" submission folder for Homework #2.  Submission instructions can be found at the end of the notebook.\n"
   ]
  },
  {
   "cell_type": "markdown",
   "id": "3c95e3e0-bf6e-4735-aa5c-ffdf3b4b69a4",
   "metadata": {},
   "source": [
    "---\n",
    "## Version check\n",
    "\n",
    "Before you begin, make sure your Jupyter kernel is Python 3. There are significant differences between Python 2 and Python 3, and we use Python 3 in this course. The kernel type at the upper-right corner should say \"Python 3\", and the following code should show a version of the form: `3.x.y` (where \"x\" and \"y\" are the sub-version numbers).\n",
    "\n",
    "If your kernel is Python 2, try selecting Python 3 from the Kernel menu above under the sub-menu \"Change kernel\". If that does not work, consult the Teams help channel for assistance."
   ]
  },
  {
   "cell_type": "code",
   "execution_count": 1,
   "id": "df6fc368-2a6f-4a95-83c1-89279fbc61b3",
   "metadata": {},
   "outputs": [
    {
     "name": "stdout",
     "output_type": "stream",
     "text": [
      "3.10.9 | packaged by Anaconda, Inc. | (main, Mar  1 2023, 18:18:15) [MSC v.1916 64 bit (AMD64)]\n"
     ]
    }
   ],
   "source": [
    "import sys\n",
    "print(sys.version)"
   ]
  },
  {
   "cell_type": "markdown",
   "id": "e27dda44-fb98-447c-8c6d-cd8a251b38ee",
   "metadata": {},
   "source": [
    "---\n",
    "<a id=\"toc\"></a>\n",
    "\n",
    "## Table of Contents\n",
    "\n",
    "[Part 0. Integrity statement](#part_0) (2 points)\n",
    "\n",
    "[Part 1. Writing and testing functions](#part_1)  (24 points)\n",
    "\n",
    "[Part 2. Doing numerics in Python with NumPy](#part_2) (16 points)\n",
    "\n",
    "[Part 3. Visualizing data with Matplotlib](#part_3)  (18 points)\n",
    "\n",
    "[Part 4. Putting it all together: Saving endangered species](#part_4) (24 points)"
   ]
  },
  {
   "cell_type": "code",
   "execution_count": 2,
   "id": "b82268ef-c236-4bb0-991d-231b9a3c31bc",
   "metadata": {},
   "outputs": [
    {
     "name": "stdout",
     "output_type": "stream",
     "text": [
      "The total number of points is : 84\n"
     ]
    }
   ],
   "source": [
    "points_list = [2, 24, 16, 18, 24]\n",
    "\n",
    "print(f\"The total number of points is : {sum(points_list)}\")"
   ]
  },
  {
   "cell_type": "markdown",
   "id": "07697278-efc1-44f9-b281-b7b4aece9bff",
   "metadata": {},
   "source": [
    "---\n",
    "<a id=\"part_0\"></a>\n",
    "\n",
    "## Part 0: Integrity statement\n",
    "\n",
    "[Back to Top](#toc)\n",
    "\n",
    "### 0.1 Academic integrity statement (2 Points)\n",
    "\n",
    "In the markdown cell below, paste your personal academic integrity statement. **You should have generated this in the Day 6 pre-class assignment**, if you did not do this pre-class assignment, locate that assignment, find the appropriate section, and draft your integrity statment now.\n",
    "\n",
    "By including this statement, you are confirming that you are submitting this as your own work and not that of someone else.\n"
   ]
  },
  {
   "cell_type": "markdown",
   "id": "add02426-de57-4036-8da8-2add665532c4",
   "metadata": {},
   "source": [
    "**I, Mark Endicott, commit to bring a serious, honest, and effortful intention to the tools of data science and the responsibilities associated with my education. I will maintian academic integrity because it allows me to thrive later. I value the impact of the skills I acquire and I will to use them to help people to the best of my ability. I am aware of MSU's ethical standards for integrity**"
   ]
  },
  {
   "cell_type": "markdown",
   "id": "3297235f",
   "metadata": {},
   "source": [
    "---\n",
    "<a id=\"part_1\"></a>\n",
    "\n",
    "## Part 1. Writing and testing functions (24 points)\n",
    "\n",
    "[Back to Top](#toc)\n",
    "\n",
    "Functions are a great programming concept because they are modular and reusable. While functions help us to build progressively more sophisticated code, we need to make sure we understand the basic structure of a function to properly write them. In this problem you'll practice writing functions and testing them, understanding the key difference between functions which return a value and functions that print a value, "
   ]
  },
  {
   "cell_type": "markdown",
   "id": "a98c6370-74f0-4487-bd44-9763d54556db",
   "metadata": {},
   "source": [
    "### &#9989;&nbsp; Question 1.1 (2 points)\n",
    "\n",
    "The function below is supposed to return the hypotenuse of a triangle. In the body of the function, the hypotenuse is computed correctly, but later when the function is called, the hypotenuse is `None`.\n",
    "\n",
    "Fix this function so that it returns the `hypotenuse` instead of printing it out, then re-run the example code to show the hypotenuse is correct. After, write 1-2 sentences explaining the difference between `print` and `return` in a function."
   ]
  },
  {
   "cell_type": "code",
   "execution_count": 3,
   "id": "1f5cbb6e-e141-452c-aed6-6d91dd07f658",
   "metadata": {},
   "outputs": [
    {
     "name": "stdout",
     "output_type": "stream",
     "text": [
      "The hypotenuse is: 5.0\n"
     ]
    }
   ],
   "source": [
    "def compute_hypotenuse(leg1, leg2):\n",
    "    hypotenuse = (leg1 ** 2 + leg2 ** 2) ** (1 / 2)\n",
    "    return hypotenuse\n",
    "\n",
    "hypotenuse = compute_hypotenuse(3.0, 4.0)\n",
    "print(\"The hypotenuse is:\", hypotenuse)"
   ]
  },
  {
   "cell_type": "markdown",
   "id": "fb0d8bff-564b-4769-a6be-edd33147355e",
   "metadata": {},
   "source": [
    "**The print function outputs a value to the screen in the type string. A return function is meant to retrieve a functions calculation and end the functions execution once activated. This calculation is then stored into a variable that calls the function outside the functions scope**"
   ]
  },
  {
   "cell_type": "markdown",
   "id": "3b156bae-e555-4cb5-ad59-d55a6606fec9",
   "metadata": {},
   "source": [
    "### &#9989;&nbsp; Question 1.2 (3 points)\n",
    "\n",
    "Write a function to return the sum of a list of integers, starting from an `initial_value`. Set the `initial_value` argument to have a default value of `0`.\n",
    "\n",
    "Examples:\n",
    "- The sum of `[1, 2, 3]` with `initial_value = 0` is `0 + 1 + 2 + 3 = 6`.\n",
    "- The sum of `[1, 2, 3]` with `initial_value = 10` is `10 + 1 + 2 + 3 = 16`.\n",
    "- The sum of `[-1, 0, 1]` with `initial_value = 0` is `0 + -1 + 0 + 1 = 0`.\n",
    "\n",
    "Note: Write the function \"from scratch\" - don't use any other functions to do this for you."
   ]
  },
  {
   "cell_type": "code",
   "execution_count": 4,
   "id": "7b54ae8a-2313-4018-9f1d-555c2cbd101d",
   "metadata": {},
   "outputs": [
    {
     "data": {
      "text/plain": [
       "12"
      ]
     },
     "execution_count": 4,
     "metadata": {},
     "output_type": "execute_result"
    }
   ],
   "source": [
    "int_lst = [1,2,3,4]\n",
    "\n",
    "def sum_lst (int_lst, initial_value = 0):\n",
    "    \n",
    "    sum_stuff = initial_value\n",
    "    \n",
    "    for val in int_lst:\n",
    "        sum_stuff += val\n",
    "    \n",
    "    return sum_stuff\n",
    "\n",
    "ans = sum_lst(int_lst, 2)\n",
    "ans"
   ]
  },
  {
   "cell_type": "markdown",
   "id": "bbe165f7-1994-42a2-b4d1-41645edf391c",
   "metadata": {},
   "source": [
    "### &#9989;&nbsp; Question 1.3 (2 points)\n",
    "\n",
    "Test your function is correct by checking it on (at least) two example inputs and showing it produces the right answers. After, comment on how you chose your example inputs. Are there any others you can think of where your function may give an incorrect or unexpected answer? What would happen if you passed in an empty list of values?"
   ]
  },
  {
   "cell_type": "code",
   "execution_count": 5,
   "id": "8957512b-50bd-4f3d-a789-4cbc6efa529b",
   "metadata": {},
   "outputs": [
    {
     "name": "stdout",
     "output_type": "stream",
     "text": [
      "13\n",
      "11\n",
      "0\n",
      "13\n"
     ]
    }
   ],
   "source": [
    "ans1 = sum_lst(int_lst, 3)\n",
    "print(ans1)\n",
    "\n",
    "ans2 = sum_lst(int_lst, 1)\n",
    "print(ans2)\n",
    "\n",
    "# 2 different initial values. Anything above 0 adds to the sum count.\n",
    "\n",
    "empty = []\n",
    "\n",
    "ans3 = sum_lst(empty)\n",
    "print(ans3)\n",
    "\n",
    "# no items in the list to count and initial defaults to 0. So sum is 0!\n",
    "\n",
    "check = sum(int_lst) + 3\n",
    "print(check)\n",
    "\n",
    "#example 1 check using a pre-defined sum function. Works!"
   ]
  },
  {
   "cell_type": "markdown",
   "id": "23f5a4da-8c1d-4fbf-8aac-49e47a8ee3b0",
   "metadata": {},
   "source": [
    "### &#9989;&nbsp; Question 1.4 (2 points)\n",
    "\n",
    "The main reason we write functions is to use them. In particular, we can use them inside other functions. \n",
    "\n",
    "Write a function to return the average value of a list of integers that uses your previous function to compute the sum of a list of integers.\n",
    "\n",
    "Reminder: The average is the sum of all values divided by the number of values.\n",
    "\n",
    "Examples:\n",
    "- The average of `[1, 2, 3]` is `(1 + 2 + 3) / 3 = 2`.\n",
    "- The average of `[-1, 0, 1, 2]` is `(-1 + 0 + 1 + 2) / 4 = 0.5`.\n",
    "\n",
    "After writing your function, check that it is correct on (at least) two example inputs. \n",
    "\n",
    "*Note*: When checking if two floats `a` and `b` are equal, it's unsafe to use `==`. (If you're interested, read why [here](https://docs.python.org/3/tutorial/floatingpoint.html).) Rather, you should use `np.isclose(a, b)` where `np` refers to NumPy."
   ]
  },
  {
   "cell_type": "code",
   "execution_count": 6,
   "id": "00f9df73-b4ac-42d1-87bf-964f0cecfff9",
   "metadata": {},
   "outputs": [
    {
     "name": "stdout",
     "output_type": "stream",
     "text": [
      "2.0\n"
     ]
    },
    {
     "data": {
      "text/plain": [
       "True"
      ]
     },
     "execution_count": 6,
     "metadata": {},
     "output_type": "execute_result"
    }
   ],
   "source": [
    "import numpy as np\n",
    "\n",
    "def aver_funct (int_lst):\n",
    "    return sum_lst(int_lst) / len(int_lst)\n",
    "\n",
    "ans = aver_funct ([1,2,3])\n",
    "print(ans)\n",
    "\n",
    "np.isclose(ans, 2)"
   ]
  },
  {
   "cell_type": "markdown",
   "id": "df836639-a90f-477d-8032-ec243f937caa",
   "metadata": {},
   "source": [
    "### &#9989;&nbsp; Question 1.4 (4 points)\n",
    "\n",
    "Write a function to return the median of a list of integers.\n",
    "\n",
    "Reminder: The median is computed by sorting the values from least to greatest. Then, if the number of values is odd, the median is the middle value. Otherwise, the median is the average of the middle two values.\n",
    "\n",
    "Examples:\n",
    "- The median of `[2, 1, 3]` is `2` since the sorted values are `[1, 2, 3]` and the middle value is `2`.\n",
    "- The median of `[3, 4, 1, 2]` is `2.5` since the sorted values are `[1, 2, 3, 4]` and the average of the middle values is `(2 + 3) / 2 = 2.5`.\n",
    "\n",
    "Note: Write the function \"from scratch\" - don't use any other functions to do this for you. You can, however, use the built-in [sorted](https://docs.python.org/3/howto/sorting.html) function to sort the values from least to greatest."
   ]
  },
  {
   "cell_type": "code",
   "execution_count": 7,
   "id": "543c9c95-ba6b-47b7-a545-8bb8b7d57280",
   "metadata": {},
   "outputs": [
    {
     "name": "stdout",
     "output_type": "stream",
     "text": [
      "2.5\n"
     ]
    }
   ],
   "source": [
    "def find_median (int_lst):\n",
    "    \n",
    "    sort_lst = sorted(int_lst)\n",
    "    #print(sort_lst)\n",
    "    \n",
    "    for i in range(len(sort_lst)):\n",
    "        \n",
    "        if i == (len(sort_lst) // 2) and (len(sort_lst) % 2 != 0):\n",
    "            \n",
    "            med = sort_lst[i]\n",
    "            return med\n",
    "    else:\n",
    "        \n",
    "        med1 = sort_lst[(len(sort_lst) // 2) - 1]\n",
    "        med2 = sort_lst[len(sort_lst) // 2]\n",
    "        av_med = (med1 + med2) / 2\n",
    "        return av_med\n",
    "    \n",
    "ans = find_median([1,2,3,4])\n",
    "print(ans)"
   ]
  },
  {
   "cell_type": "markdown",
   "id": "7b1e41e5-cb39-405a-b66a-28bcb47e3bf1",
   "metadata": {},
   "source": [
    "### &#9989;&nbsp; Question 1.5 (3 points)\n",
    "\n",
    "The average and median are two descriptors of data with different pros and cons. In this problem you'll use your two functions to understand how sensitive each descriptor is to an outlier in the data.\n",
    "\n",
    "You're provided with a list of random numbers as well as an outlier. Your task is to:\n",
    "\n",
    "- Compute the average and the median of these values.\n",
    "- Append the outlier to the values.\n",
    "- Compute the average and the median of the values with the outlier.\n",
    "\n",
    "You should print out the average and median in both cases. \n",
    "\n",
    "In the following we provide some code to get your started. Read the comments in the code and make sure you understand what the code does.\n",
    "\n",
    "_Note:_ The code involves using the `random` library of `numpy`. We will cover random numbers later in the semester, but for now all you need to know is that truly random numbers are almost impossible to create using computers. There are functions that create sequences of numbers that can mimic the properties of random numbers, but they are not truly random because the function will always output the same sequence everytime its called. \n",
    "\n",
    "If you want to know more about it now you can read [this website](https://numpy.org/doc/stable/reference/random/index.html) and/or ask your instructor.\n",
    "\n"
   ]
  },
  {
   "cell_type": "code",
   "execution_count": 8,
   "id": "2f071324-57f5-41bc-bb64-74dc2b95e1b3",
   "metadata": {},
   "outputs": [
    {
     "name": "stdout",
     "output_type": "stream",
     "text": [
      "Average -0.9\n",
      "Median -1.5\n",
      "\n",
      "Average 90.0909090909091\n",
      "Median -1\n"
     ]
    }
   ],
   "source": [
    "# Import the needed libraries\n",
    "import numpy as np\n",
    "\n",
    "# Create a pseudo-random number generator and call it rng. \n",
    "# The input 0 is the seed of the random number generator. This is needed because we want the result to be reproducible s\n",
    "rng = np.random.RandomState(0)\n",
    "# Create an array of 10 random integers picked from the range (-5, 5). \n",
    "values = rng.randint(low=-5, high=5, size=10)\n",
    "\n",
    "# Create an outlier, e.g. a number outside the original range.\n",
    "outlier = 1000\n",
    "\n",
    "# no outlier\n",
    "ans1 = aver_funct(values)\n",
    "print(\"Average\", ans1)\n",
    "\n",
    "ans2 = find_median(values)\n",
    "print(\"Median\", ans2)\n",
    "\n",
    "#append outlier\n",
    "values = np.append(values, outlier)\n",
    "print()\n",
    "\n",
    "# with outlier\n",
    "ans1 = aver_funct(values)\n",
    "print(\"Average\", ans1)\n",
    "\n",
    "ans2 = find_median(values)\n",
    "print(\"Median\", ans2)"
   ]
  },
  {
   "cell_type": "markdown",
   "id": "5cb0a418-0a22-456c-88e7-323a9c9a4804",
   "metadata": {},
   "source": [
    "### &#9989;&nbsp; Question 1.6 (4 points)\n",
    "\n",
    "In your own words describe the difference between median and mean and average of a set of numbers. Which is more sensible to outliers? Explain"
   ]
  },
  {
   "cell_type": "markdown",
   "id": "eb2cb576-6eba-4f57-a12c-75d2333f9cc1",
   "metadata": {},
   "source": [
    "**The outlier severely skewed the average up but the median didn't change very much. Therefore, average is more sensitive to outliers (pulled closer to outlier) compared to the median. Mean is more dependet on the magnitude of a value, whereas the median depends on the \"middle number\" of a sorted sequence of values.**"
   ]
  },
  {
   "cell_type": "markdown",
   "id": "bdfe77c2-125d-4926-9b62-96e08beb3933",
   "metadata": {},
   "source": [
    "### &#9989;&nbsp; Question 1.7 (4 points)\n",
    "\n",
    "Write a function that inputs a string and returns a new string with its characters reversed.\n",
    "\n",
    "Examples:\n",
    "- For the string \"abc\", the function should return \"cba\".\n",
    "- For the string \"CMSE 201\", the function should return \"102 ESMC\".\n",
    "\n",
    "Note: Write the function \"from scratch\" - don't use any other functions or syntax to do this for you. In particular, your function must use a loop."
   ]
  },
  {
   "cell_type": "code",
   "execution_count": 9,
   "id": "8fd31c22-6b98-4954-80fd-2252dbf84d96",
   "metadata": {},
   "outputs": [
    {
     "name": "stdout",
     "output_type": "stream",
     "text": [
      "102 ESMC\n"
     ]
    }
   ],
   "source": [
    "def string_rev (arg):\n",
    "    \n",
    "    let_bucket = \"\"\n",
    "    \n",
    "    for letter in arg[::-1]:\n",
    "        let_bucket += letter\n",
    "        \n",
    "    return let_bucket\n",
    "    \n",
    "    \n",
    "#string_rev(\"abc\")\n",
    "ans = string_rev(\"CMSE 201\")\n",
    "print(ans)\n",
    "\n"
   ]
  },
  {
   "cell_type": "markdown",
   "id": "a5c7d1a7-b822-4228-94b7-606eeb722df2",
   "metadata": {},
   "source": [
    "---\n",
    "<a id=\"part_2\"></a>\n",
    "\n",
    "## Part 2: Doing numerics in Python with NumPy (16 points)\n",
    "\n",
    "[Back to Top](#toc)\n",
    "\n",
    "NumPy, short for numerical Python, is one of the most useful and widely used Python packages. We'll use it for many tasks throughout the course. Here, we'll practice with two of the most fundamental and most common: performing mathematical operations and working with NumPy arrays."
   ]
  },
  {
   "cell_type": "markdown",
   "id": "d26e4091-1684-4689-963e-6dfc7121ee9f",
   "metadata": {},
   "source": [
    "### &#9989;&nbsp; Question 2.1 (5 points)\n",
    "\n",
    "NumPy contains many mathematical functions that we use every day - for example `sin`, `cos`, `exp`, and many more. You can apply these functions to single numbers, but the real power of NumPy comes from the ability to apply these functions to many values at once.\n",
    "\n",
    "In the cell below, you're provided with a list of floating point values. Your task is to:\n",
    "\n",
    "1. Take the exponential of each value.\n",
    "2. Compute the sum of all these values.\n",
    "3. Divide the exponential of each value by the sum of all values, and store these results in a list.\n",
    "\n",
    "Example:\n",
    "- Given the list [$a$, $b$], the final list you end up with should be [$\\frac{e^a}{e^a + e^b}$, $\\frac{e^b}{e^a + e^b}$].\n",
    "\n",
    "First do this using only the `math.exp` function from Python's math library (`import math`). This function only inputs a single number, not a list, and you'll have to use loops.\n",
    "\n",
    "Then, do this using the `np.exp` function from NumPy which can input a list of numbers.\n",
    "\n",
    "Print out your answers in both cases to show that they are the same.\n",
    "\n",
    "*Hint*: The final lists in both cases should be all positive numbers that sum to `1.0`.\n",
    "\n",
    "*Fun fact*: This sequence of operations is called a [softmax](https://en.wikipedia.org/wiki/Softmax_function) and it is often used in machine learning, among other applications."
   ]
  },
  {
   "cell_type": "code",
   "execution_count": 10,
   "id": "d3f6a54a-c565-48c5-aee8-58e623bfe51f",
   "metadata": {},
   "outputs": [
    {
     "data": {
      "text/plain": [
       "[0.017301376599363167,\n",
       " 0.5343310125225145,\n",
       " 27.346998302725577,\n",
       " 0.09681363487941726,\n",
       " 0.2594085418384663,\n",
       " 2.236896695634724,\n",
       " 0.06359723538141204,\n",
       " 1.0449174128973249,\n",
       " 0.463774410881424,\n",
       " 0.2225027254079023]"
      ]
     },
     "execution_count": 10,
     "metadata": {},
     "output_type": "execute_result"
    }
   ],
   "source": [
    "import numpy as np\n",
    "\n",
    "values = [-2.77174688,  0.65848257,  4.5938291, -1.04974511, -0.06412875, 2.09031183, -1.46996295,  1.32916018,  0.5168653, -0.2175936]\n",
    "\n",
    "results = []\n",
    "\n",
    "for val in values:\n",
    "    x = np.exp(val)\n",
    "    ans = x / np.sum(values)\n",
    "    results.append(ans)\n",
    "\n",
    "results\n",
    "\n",
    "\n",
    "    \n",
    "\n",
    "    "
   ]
  },
  {
   "cell_type": "markdown",
   "id": "d444b469-6ce2-4b00-a5f6-61a8510e2fcd",
   "metadata": {},
   "source": [
    "### &#9989;&nbsp; Question 2.2 (4 points)\n",
    "\n",
    "Another big reason for using NumPy is NumPy arrays. These are data types similar to lists but they allow us to add all numbers in the list together using a single operation, without any loops.\n",
    "\n",
    "First, write a function to return the element-wise sum of two lists *without using NumPy*.\n",
    "\n",
    "Example:\n",
    "- The element-wise sum of `[1, 2, 3] + [1, 0, 1] = [1 + 1, 2 + 0, 3 + 1] = [2, 2, 4]`.\n",
    "\n",
    "Use this function to compute the element-wise sum of `list1` and `list2` provided below.\n",
    "\n",
    "Then, convert the two lists to NumPy arrays and add them together. Print out the answers in both cases and show that they agree."
   ]
  },
  {
   "cell_type": "code",
   "execution_count": 11,
   "id": "df698717-16d4-4131-be96-ea42471bc815",
   "metadata": {},
   "outputs": [
    {
     "data": {
      "text/plain": [
       "array([ 14,   5,  -2,  -6,   1,   2,  -5, -20,  -5,   6,   2,  -4,  -7,\n",
       "        -8,   2, -11, -12,  -6,  -9,  -4])"
      ]
     },
     "execution_count": 11,
     "metadata": {},
     "output_type": "execute_result"
    }
   ],
   "source": [
    "list1 = [9, 9, 5, -10, 6, -2, -3, -10, 3, -1, 1, -3, 1, 0, -7, -5, -8, -5, -5, -2]\n",
    "list2 = [5, -4, -7, 4, -5, 4, -2, -10, -8, 7, 1, -1, -8, -8, 9, -6, -4, -1, -4, -2]\n",
    "\n",
    "def el_sum (lst1, lst2):\n",
    "    \n",
    "    ary1 = np.array(lst1)\n",
    "    ary2 = np.array(lst2)\n",
    "    \n",
    "    ary3 = ary1 + ary2\n",
    "    return ary3\n",
    "\n",
    "el_sum(list1, list2)\n"
   ]
  },
  {
   "cell_type": "markdown",
   "id": "a4c95416-d170-4cb2-85a0-00f6b061efd9",
   "metadata": {},
   "source": [
    "### &#9989;&nbsp; Question 2.3 (7 points)\n",
    "\n",
    "There's a file on the course website called `random_lists.txt` which contains lists of random lists. The file has 20 rows and each row is a list of random numbers. Your task is to determine which lists are probability distributions, and convert the ones that are not probability distributions into probability distributions by using the softmax function from Question 2.1.\n",
    "\n",
    "You should:\n",
    "- Use NumPy to load in the `random_lists.txt` data.\n",
    "- Define a function to return True if a list of values is a probability distribution, else return False. (A probability distribution is a sequence of non-negative numbers that sums to one.)\n",
    "- Define a function to apply softmax (using NumPy).\n",
    "- Loop through the `random_lists` and check if each list is a probability distribution. If it is, store the index. If it is not, apply a softmax to convert it to a probability distribution.\n",
    "- Print out the indices of the lists that were probability distributions.\n",
    "\n",
    "*Hint*: The list at index `1` in `random_lists` is a probability distribution. There may or may not be others."
   ]
  },
  {
   "cell_type": "code",
   "execution_count": 12,
   "id": "7c6d5880-82a7-4fc8-a811-991fb9e294ce",
   "metadata": {},
   "outputs": [
    {
     "name": "stdout",
     "output_type": "stream",
     "text": [
      "[0, 1, 3, 6, 8, 11, 16]\n"
     ]
    }
   ],
   "source": [
    "data = np.loadtxt(\"random_lists.csv\")\n",
    "\n",
    "def is_prob_dis (lst):\n",
    "    return np.isclose(np.sum(lst),1.0)\n",
    "\n",
    "\n",
    "def softmax (lst):\n",
    "    \n",
    "    results = []\n",
    "\n",
    "    for val in values:\n",
    "        x = np.exp(val)\n",
    "        ans = x / np.sum(values)\n",
    "        results.append(ans)\n",
    "        \n",
    "    return results\n",
    "\n",
    "prob_ind = []\n",
    "\n",
    "for i, lst in enumerate(data):\n",
    "    \n",
    "    if is_prob_dis (lst) == False:\n",
    "        data[i] = softmax(lst)\n",
    "        \n",
    "    else:\n",
    "        prob_ind.append(i)\n",
    "    \n",
    "print(prob_ind)"
   ]
  },
  {
   "cell_type": "markdown",
   "id": "140169fb-eb23-4560-aad9-717300d09e15",
   "metadata": {},
   "source": [
    "---\n",
    "<a id=\"part_3\"></a>\n",
    "\n",
    "## Part 3: Visualizing data with Matplotlib (18 points)\n",
    "\n",
    "[Back to Top](#toc)\n",
    "\n",
    "Another very commonly used Python package is Matplotlib for plotting and visualizations. We'll use Matplotlib for many tasks throughout the course, and later on focus on best practices for visualizing data. In this problem you'll practice the most important fundamentals of Matplotlib."
   ]
  },
  {
   "cell_type": "markdown",
   "id": "1fb49d56-212e-4175-8f49-ab9c5a861287",
   "metadata": {},
   "source": [
    "### &#9989;&nbsp; Question 3.1 (6 Points) \n",
    "\n",
    "Given an array of $x$ values (`xs`), use NumPy to compute $\\sin(x)$ and $\\cos(x)$, then use `matplotlib` to plot both curves as a function of $x$. Make sure you label the horizontal axis `x`, the vertical axis `y`, create a legend, and give the plot an appropriate title."
   ]
  },
  {
   "cell_type": "code",
   "execution_count": 13,
   "id": "715579ca-ccfb-47af-afd5-56dd282f379b",
   "metadata": {},
   "outputs": [
    {
     "data": {
      "text/plain": [
       "<function matplotlib.pyplot.legend(*args, **kwargs)>"
      ]
     },
     "execution_count": 13,
     "metadata": {},
     "output_type": "execute_result"
    },
    {
     "data": {
      "image/png": "[encoded data removed]",
      "text/plain": [
       "<Figure size 640x480 with 1 Axes>"
      ]
     },
     "metadata": {},
     "output_type": "display_data"
    }
   ],
   "source": [
    "import matplotlib.pyplot as plt\n",
    "\n",
    "xs = np.linspace(-3 * np.pi, 3 * np.pi, 100)\n",
    "\n",
    "cos = np.cos(xs)\n",
    "sin = np.sin(xs)\n",
    "\n",
    "plt.plot(cos,sin);\n",
    "plt.xlabel(\"cos(x)\")\n",
    "plt.ylabel(\"sin(x)\")\n",
    "plt.title(\"Cos(x) & Sin(x)\")\n",
    "plt.legend"
   ]
  },
  {
   "cell_type": "markdown",
   "id": "2a114db3-4e96-4c12-b02f-54c9fa8c95f3",
   "metadata": {},
   "source": [
    "### &#9989;&nbsp; Question 3.2 (7 Points)  \n",
    "\n",
    "Define a function which inputs a `radius` (default value `1.0`) and a `color` (default value `\"green\"`) and plots a circle (centered at the origin) of the given `radius` with the given `color` using Matplotlib. Don't forget to label your axis!\n",
    "\n",
    "Reminder: The equation of a circle centered at the origin with radius $r$ is $x^2 + y^2 = r^2$. When you solve for $y$ as a function of $x$, there is both the positive and negative square root.\n",
    "\n",
    "Use this function to plot a green circle of radius 1, an orange circle of radius 2, and a blue circle of radius 3 on the same plot.\n",
    "\n",
    "*Hint*: It's not necessary, but you can use the line `plt.axis(\"equal\")` to make the horizontal and vertical axes have the same scale. This will make the circles look more... circular."
   ]
  },
  {
   "cell_type": "code",
   "execution_count": 14,
   "id": "1d40de83-7a88-49be-b6bc-548bed12ae2f",
   "metadata": {},
   "outputs": [
    {
     "data": {
      "image/png": "[encoded data removed]",
      "text/plain": [
       "<Figure size 640x480 with 1 Axes>"
      ]
     },
     "metadata": {},
     "output_type": "display_data"
    }
   ],
   "source": [
    "\n",
    "def plot_cir (radius = 1.0, color = \"green\"):\n",
    "    \n",
    "    theta = np.linspace(0, 2*np.pi, 100)\n",
    "    \n",
    "    x = radius * np.cos(theta)\n",
    "    y = radius * np.sin(theta)\n",
    "    \n",
    "    plt.plot(x, y, color=color)\n",
    "    plt.xlabel(\"x\")\n",
    "    plt.ylabel(\"y\")\n",
    "    \n",
    "plot_cir (radius=1, color=\"green\")\n",
    "plot_cir (radius=2, color=\"orange\")\n",
    "plot_cir (radius=3, color=\"blue\")\n",
    "\n",
    "plt.axis(\"equal\")  # Set equal aspect ratio\n",
    "\n",
    "plt.show()"
   ]
  },
  {
   "cell_type": "markdown",
   "id": "bc35160a-eacf-48cd-91b4-107a1f719e90",
   "metadata": {},
   "source": [
    "### &#9989;&nbsp; Question 3.2 (5 Points)  \n",
    "\n",
    "There's a file on the course website called `\"species.txt\"` that contains information about vulnerable, endangered, and critically endangered species. The format of the data, as well as the first row, is shown below.\n",
    "\n",
    "| Year | # Mammal Species Vulnerable | # Mammal Species Endangered | # Mammal Species Critically Endangered | # Mammal Species Assessed | # Bird Species Vulnerable | # Bird Species Endangered | # Bird Species Critically Endangered | # Bird Species Assessed |\n",
    "|------|-----------------------------|-----------------------------|----------------------------------------|---------------------------|---------------------------|---------------------------|--------------------------------------|-------------------------|\n",
    "| 2002 | 617                         | 339                         | 181                                    | 2150                      | 684                       | 326                       | 182                                  | 2138                    |\n",
    "\n",
    "This means that, in 2002, there were 617 species of mammals that were considered vulnerable, 339 species of mammals that were considered endangered, and 181 species of mammals that were critically endangered, out of a total of 2150 species of mammals that were assessed. The remaining columns have the same format but for species of birds instead of mammals. The full dataset has more rows and goes up to 2022. *Data source*: [IUCN Redlist](https://data.world/project-data-viz/iucn-redlist-changes-2002-to-2022-pdv-10-2022)."
   ]
  },
  {
   "cell_type": "markdown",
   "id": "c7823948-89f2-4fc8-b8c4-66b441877477",
   "metadata": {},
   "source": [
    "Your task is to:\n",
    "\n",
    "- Load in this data using NumPy.\n",
    "- Visualize the data with two subplots\n",
    "  - The subplot on the left should show the number of vulnerable, endangered, and critically endangered mammal species over time.\n",
    "  - The subplot on the right should show the same numbers for bird species over time.\n",
    "\n",
    "Each subplot should include a legend labelling the curves, appropriate axis labels, and a title."
   ]
  },
  {
   "cell_type": "code",
   "execution_count": 15,
   "id": "f5663631-b184-49c9-b066-d997f6d06e5e",
   "metadata": {},
   "outputs": [
    {
     "data": {
      "image/png": "[encoded data removed]",
      "text/plain": [
       "<Figure size 640x480 with 1 Axes>"
      ]
     },
     "metadata": {},
     "output_type": "display_data"
    },
    {
     "data": {
      "image/png": "[encoded data removed]",
      "text/plain": [
       "<Figure size 640x480 with 1 Axes>"
      ]
     },
     "metadata": {},
     "output_type": "display_data"
    }
   ],
   "source": [
    "data = np.loadtxt(\"species.txt\")\n",
    "\n",
    "vulnerable = data[:,2]\n",
    "endangered = data[:,3]\n",
    "crit_endang = data[:,4]\n",
    "year = data[:,0]\n",
    "\n",
    "plt.subplot(2,2,2)\n",
    "\n",
    "plt.plot(year, vulnerable, label = \"Vulnerable\");\n",
    "plt.plot(year, endangered, label = \"Endangered\");\n",
    "plt.plot(year, crit_endang, label = \"Critically Endangered\");\n",
    "plt.title(\"Mammals\")\n",
    "plt.xlabel(\"Year\")\n",
    "plt.ylabel(\"Count\")\n",
    "plt.legend()\n",
    "plt.show()\n",
    "\n",
    "plt.subplot(2,2,2)\n",
    "\n",
    "vulnerable = data[:,5]\n",
    "endangered = data[:,6]\n",
    "crit_endang = data[:,7]\n",
    "#year = data[:,0]\n",
    "\n",
    "plt.plot(year, vulnerable, label = \"Vulnerable\");\n",
    "plt.plot(year, endangered, label = \"Endangered\");\n",
    "plt.plot(year, crit_endang, label = \"Critically Endangered\");\n",
    "plt.title(\"Birds\")\n",
    "plt.xlabel(\"Year\")\n",
    "plt.ylabel(\"Count\")\n",
    "plt.legend()\n",
    "plt.show()"
   ]
  },
  {
   "cell_type": "markdown",
   "id": "6f717c6f",
   "metadata": {},
   "source": [
    "---\n",
    "<a id=\"part_4\"></a>\n",
    "\n",
    "## Part 4. Putting it all together: Saving endangered species (24 points)\n",
    "\n",
    "[Back to Top](#toc)\n",
    "\n",
    "In this problem you'll combine functions, NumPy, and Matplotlib to analyze endangered species data and direct resources to the animals which need the most help!"
   ]
  },
  {
   "cell_type": "markdown",
   "id": "6e386b52-678a-4ceb-9423-8411b441605a",
   "metadata": {},
   "source": [
    "### &#9989;&nbsp; Question 4.1 (6 points)\n",
    "\n",
    "Continuing with the `\"species.txt\"` dataset from Part 3, modify your subplots to show the percentages vs. time rather than total numbers vs. time. This will allow you to compare the mammals and birds more easily.\n",
    "\n",
    "For example:\n",
    "- To compute the percentage of vulnerable mammal species, you should do `number_vulnerable_mammals / total_number_mammals * 100`.\n",
    "- To compute the percentage of endangered mammal species, you should do `number_endangered_mammals / total_number_mammals * 100`.\n",
    "- Etc.\n",
    "\n",
    "Set each subplot to have the same vertical ($y$-axis) limits, and still include legends, appropriate axis labels, and a title on each subplot."
   ]
  },
  {
   "cell_type": "code",
   "execution_count": 16,
   "id": "f461bc1c-515a-4f30-9498-b32f0b4d509b",
   "metadata": {},
   "outputs": [
    {
     "data": {
      "image/png": "[encoded data removed]",
      "text/plain": [
       "<Figure size 640x480 with 1 Axes>"
      ]
     },
     "metadata": {},
     "output_type": "display_data"
    },
    {
     "data": {
      "image/png": "[encoded data removed]",
      "text/plain": [
       "<Figure size 640x480 with 1 Axes>"
      ]
     },
     "metadata": {},
     "output_type": "display_data"
    }
   ],
   "source": [
    "vulnerable_perc = data[:,2] / data[:,4] * 100\n",
    "endangered_perc = data[:,3] / data[:,4] * 100\n",
    "crit_endang_perc = data[:,4] / data[:,4] * 100\n",
    "year = data[:,0]\n",
    "\n",
    "plt.subplot(2,2,2)\n",
    "\n",
    "plt.plot(year, vulnerable_perc, label = \"Vulnerable\");\n",
    "plt.plot(year, endangered_perc, label = \"Endangered\");\n",
    "plt.plot(year, crit_endang_perc, label = \"Critically Endangered\");\n",
    "plt.title(\"Mammals\")\n",
    "plt.xlabel(\"Year\")\n",
    "plt.ylabel(\"Percent\")\n",
    "plt.legend()\n",
    "plt.show()\n",
    "\n",
    "plt.subplot(2,2,2)\n",
    "\n",
    "vulnerable = data[:,5] / data[:,4] * 100\n",
    "endangered = data[:,6] / data[:,4] * 100\n",
    "crit_endang = data[:,7] / data[:,4] * 100\n",
    "#year = data[:,0]\n",
    "\n",
    "plt.plot(year, vulnerable, label = \"Vulnerable\");\n",
    "plt.plot(year, endangered, label = \"Endangered\");\n",
    "plt.plot(year, crit_endang, label = \"Critically Endangered\");\n",
    "plt.title(\"Birds\")\n",
    "plt.xlabel(\"Year\")\n",
    "plt.ylabel(\"Percent\")\n",
    "plt.legend()\n",
    "plt.show()"
   ]
  },
  {
   "cell_type": "markdown",
   "id": "bda1d2a3-6068-4ac4-967d-8fe3357b9eea",
   "metadata": {},
   "source": [
    "### &#9989;&nbsp; Question 4.2 (6 points)\n",
    "\n",
    "Define an \"at-risk\" animal as one which is vulnerable OR endangered OR critically endangered.\n",
    "\n",
    "- Compute the number of at-risk mammals for every year.\n",
    "- Compute the number of at-risk birds for every year.\n",
    "- Plot both of the above on the same plot.\n",
    "\n",
    "Then:\n",
    "\n",
    "- Compute the average and median at-risk mammals. Plot both as horizontal lines on the same plot. _Hint:_ look up `axhline`.\n",
    "- Compute the average and median at-risk birds. Plot both as horizontal lines on the same plot.\n",
    "\n",
    "Be sure to label each line and include a legend, and include appropriate axis labels."
   ]
  },
  {
   "cell_type": "code",
   "execution_count": 17,
   "id": "50bb684f-99a1-4cd3-81ea-0cd844f53f57",
   "metadata": {},
   "outputs": [
    {
     "data": {
      "text/plain": [
       "<matplotlib.legend.Legend at 0x1b5bbfb0670>"
      ]
     },
     "execution_count": 17,
     "metadata": {},
     "output_type": "execute_result"
    },
    {
     "data": {
      "image/png": "[encoded data removed]",
      "text/plain": [
       "<Figure size 640x480 with 1 Axes>"
      ]
     },
     "metadata": {},
     "output_type": "display_data"
    }
   ],
   "source": [
    "at_risk_mamm = data[:,2] + data[:,3] + data[:, 4]\n",
    "at_risk_birds = data[:,5] + data[:,6] + data[:, 7]\n",
    "\n",
    "plt.plot(year, at_risk_mamm, label = \"Mammals\")\n",
    "plt.plot(year, at_risk_birds, label = \"Birds\")\n",
    "plt.title(\"At Risk\")\n",
    "plt.xlabel(\"Year\")\n",
    "plt.ylabel(\"Count\")\n",
    "plt.legend()"
   ]
  },
  {
   "cell_type": "markdown",
   "id": "03b869e2-8f32-4673-ae53-4cf9440ecac1",
   "metadata": {},
   "source": [
    "### &#9989;&nbsp; Question 4.3 (4 points)\n",
    "\n",
    "Describe the plot. What do you notice? What can you conclude from it?\n"
   ]
  },
  {
   "cell_type": "markdown",
   "id": "fe7fb5ac-eb29-42a7-969e-e6832f1a1bf4",
   "metadata": {},
   "source": [
    "**There is a much greater count of mammals at risk compared to birds even though they were assessed in equal number. I can conclude that mammals are at greater risk than birds.**"
   ]
  },
  {
   "cell_type": "markdown",
   "id": "a8b773ff-8ccb-4c1e-83e3-09a553125014",
   "metadata": {},
   "source": [
    "### &#9989;&nbsp; Question 4.4 (4 points)\n",
    "\n",
    "You're given a budget of $10,000 per year to provide help for at-risk mammals and birds. Your policy is to be fair and distribute the money proportionally, so if there are `m` at-risk mammals and `b` at-risk birds in a year, you allocate `m / (m + b) * $10,000` to mammals and `b / (m + b) * $10,000` to birds that year.\n",
    "\n",
    "Compute how much you allocate for mammals and birds for every year, then plot the results. *You must use NumPy to do these computations - solutions using loops will receive no credit!*\n",
    "\n",
    "Your plot should show two curves: money for mammals and birds over time. Include a legend and appropriate axis labels."
   ]
  },
  {
   "cell_type": "code",
   "execution_count": 18,
   "id": "a64c41c9-e281-4b8e-9c35-e04274b894a8",
   "metadata": {},
   "outputs": [
    {
     "ename": "SyntaxError",
     "evalue": "incomplete input (2264351101.py, line 2)",
     "output_type": "error",
     "traceback": [
      "\u001b[1;36m  Cell \u001b[1;32mIn[18], line 2\u001b[1;36m\u001b[0m\n\u001b[1;33m    \u001b[0m\n\u001b[1;37m    ^\u001b[0m\n\u001b[1;31mSyntaxError\u001b[0m\u001b[1;31m:\u001b[0m incomplete input\n"
     ]
    }
   ],
   "source": [
    "for item in at_risk_mamm:\n",
    "    "
   ]
  },
  {
   "cell_type": "markdown",
   "id": "e3fec80d-18e3-458a-9623-5dae743636f7",
   "metadata": {
    "execution": {
     "iopub.execute_input": "2024-02-04T22:11:15.208052Z",
     "iopub.status.busy": "2024-02-04T22:11:15.207348Z",
     "iopub.status.idle": "2024-02-04T22:11:15.215751Z",
     "shell.execute_reply": "2024-02-04T22:11:15.214713Z",
     "shell.execute_reply.started": "2024-02-04T22:11:15.208003Z"
    }
   },
   "source": [
    "### &#9989;&nbsp; Question 4.5 (4 points)\n",
    "\n",
    "Describe the plot and compare it with the one in Question 4.2. What do you notice? What can you conclude from this plot? Why do the mammals require more money in the last years but less money in the early years?\n"
   ]
  },
  {
   "cell_type": "markdown",
   "id": "031a7d39-ec59-45f2-8eaf-17f5958403b0",
   "metadata": {},
   "source": [
    "_Put your answer here_"
   ]
  },
  {
   "cell_type": "markdown",
   "id": "281eb271",
   "metadata": {},
   "source": [
    "---\n",
    "## Wait! Before you submit your notebook, read the following important recommendations\n",
    "\n",
    "When your TA opens your notebook to grade the assignment, it will be really useful if your notebook is saved in a fully executed state so that they can see the output of all your code. Additionally, it may be necessary from time to time for the TA to actually run your notebook, but when they run the notebook, it is important that you are certain that all the code will actually run for them!\n",
    "\n",
    "You should get into the following habit: **before you save and submit your final notebook for your assignments, go to the \"Kernel\" tab at the top of the notebook and select \"Restart and Run all\".** This will restart your notebook and try to run the code cell-by-cell from the top to the bottom. Once it finished, review you notebook and make sure there weren't any errors that popped up. Sometimes, when working with notebooks, we accidentally change code in one cell that break our code in another cell. If your TA stumbles across code cells that don't work, **they will likely have to give you a zero for those portions of the notebook that don't work**. Testing your notebook one last time is a good way to make sure this doesn't happen.\n",
    "\n",
    "**Once you've tested your whole notebook again, make sure you save it one last time before you upload it to D2L.**"
   ]
  },
  {
   "cell_type": "markdown",
   "id": "883c1744",
   "metadata": {},
   "source": [
    "---\n",
    "\n",
    "### Congratulations, you're done! ###\n",
    "\n",
    "Submit this assignment by uploading it to the course Desire2Learn web page. Go to the \"Homework Assignments\" section, find the submission folder link for Homework #2, and upload it there."
   ]
  },
  {
   "cell_type": "markdown",
   "id": "6eb06430",
   "metadata": {},
   "source": [
    "Copyright &#169; 2023, [Department of Computational Mathematics, Science and Engineering](https://cmse.msu.edu/) at Michigan State University, All rights reserved."
   ]
  }
 ],
 "metadata": {
  "kernelspec": {
   "display_name": "Python 3 (ipykernel)",
   "language": "python",
   "name": "python3"
  },
  "language_info": {
   "codemirror_mode": {
    "name": "ipython",
    "version": 3
   },
   "file_extension": ".py",
   "mimetype": "text/x-python",
   "name": "python",
   "nbconvert_exporter": "python",
   "pygments_lexer": "ipython3",
   "version": "3.10.9"
  },
  "vscode": {
   "interpreter": {
    "hash": "57d964a2ef938b66daa93f67207194045a8aae98a88dc0c9d20f5f06155eead0"
   }
  },
  "widgets": {
   "application/vnd.jupyter.widget-state+json": {
    "state": {},
    "version_major": 2,
    "version_minor": 0
   }
  }
 },
 "nbformat": 4,
 "nbformat_minor": 5
}
